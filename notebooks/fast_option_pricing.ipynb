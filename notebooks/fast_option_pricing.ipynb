{
 "cells": [
  {
   "cell_type": "markdown",
   "id": "467b9f4d",
   "metadata": {},
   "source": [
    "# Pricing a European Call Option Version 2\n",
    "\n",
    "----\n",
    "\n",
    "#### John Stachurski (August 2024)\n",
    "\n",
    "----"
   ]
  },
  {
   "cell_type": "markdown",
   "id": "c1cd6e07",
   "metadata": {},
   "source": [
    "In this notebook we will accelerate our code for option pricing using different\n",
    "libraries"
   ]
  },
  {
   "cell_type": "code",
   "execution_count": 1,
   "id": "a73fa48e",
   "metadata": {},
   "outputs": [],
   "source": [
    "import numpy as np\n",
    "import matplotlib.pyplot as plt"
   ]
  },
  {
   "cell_type": "markdown",
   "id": "78cdf7fd",
   "metadata": {},
   "source": [
    "## Why is Pure Python Slow?\n",
    "\n",
    "We saw that our Python code for option pricing was pretty slow.\n",
    "\n",
    "In essence, this is because our loops were written in pure Python\n",
    "\n",
    "Pure Python loops are not fast.\n",
    "\n",
    "This has led some people to claim that Python is too slow for computational\n",
    "economics.\n",
    "\n",
    "These people are ~idiots~ misinformed -- so please ignore them.\n",
    "\n",
    "Evidence: AI teams are solving optimization problems in $\\mathbb R^d$ with $d >\n",
    "$ 1 trillion using Pytorch / JAX\n",
    "\n",
    "So I'm pretty sure we can use Python for computational economics.\n",
    "\n",
    "But first let's try to understand the issues.\n",
    "\n",
    "### Issue 1: Type Checking\n",
    "\n",
    "Consider the following Python code"
   ]
  },
  {
   "cell_type": "code",
   "execution_count": 2,
   "id": "5fc16d65",
   "metadata": {},
   "outputs": [
    {
     "data": {
      "text/plain": [
       "3"
      ]
     },
     "execution_count": 2,
     "metadata": {},
     "output_type": "execute_result"
    }
   ],
   "source": [
    "x, y = 1, 2\n",
    "x + y"
   ]
  },
  {
   "cell_type": "markdown",
   "id": "ca3186db",
   "metadata": {},
   "source": [
    "This is integer addition, which is different from floating point addition"
   ]
  },
  {
   "cell_type": "code",
   "execution_count": 3,
   "id": "1709dda6",
   "metadata": {},
   "outputs": [
    {
     "data": {
      "text/plain": [
       "3.0"
      ]
     },
     "execution_count": 3,
     "metadata": {},
     "output_type": "execute_result"
    }
   ],
   "source": [
    "x, y = 1.0, 2.0\n",
    "x + y"
   ]
  },
  {
   "cell_type": "markdown",
   "id": "2a59968a",
   "metadata": {},
   "source": [
    "Now consider this code"
   ]
  },
  {
   "cell_type": "code",
   "execution_count": 4,
   "id": "53d08781",
   "metadata": {},
   "outputs": [
    {
     "data": {
      "text/plain": [
       "'foobar'"
      ]
     },
     "execution_count": 4,
     "metadata": {},
     "output_type": "execute_result"
    }
   ],
   "source": [
    "x, y = 'foo', 'bar'\n",
    "x + y"
   ]
  },
  {
   "cell_type": "markdown",
   "id": "36ff193c",
   "metadata": {},
   "source": [
    "Notice that we use the same symbol `+` on each occasion.\n",
    "\n",
    "The Python interpreter figures out the correct action by type checking:"
   ]
  },
  {
   "cell_type": "code",
   "execution_count": 5,
   "id": "0060f23c",
   "metadata": {},
   "outputs": [
    {
     "data": {
      "text/plain": [
       "str"
      ]
     },
     "execution_count": 5,
     "metadata": {},
     "output_type": "execute_result"
    }
   ],
   "source": [
    "a, b = 'foo', 10\n",
    "type(a)"
   ]
  },
  {
   "cell_type": "code",
   "execution_count": 6,
   "id": "450c1ade",
   "metadata": {},
   "outputs": [
    {
     "data": {
      "text/plain": [
       "int"
      ]
     },
     "execution_count": 6,
     "metadata": {},
     "output_type": "execute_result"
    }
   ],
   "source": [
    "type(b)"
   ]
  },
  {
   "cell_type": "markdown",
   "id": "1d036248",
   "metadata": {},
   "source": [
    "But think of all the type checking in our option pricing function --- the\n",
    "overhead is huge!!"
   ]
  },
  {
   "cell_type": "code",
   "execution_count": 7,
   "id": "a3093c74",
   "metadata": {},
   "outputs": [],
   "source": [
    "n, β, K = 10, 0.99, 100\n",
    "μ, ρ, ν, S_0, h_0 = 0.0001, 0.01, 0.001, 10.0, 0.0\n",
    "def compute_call_price_py(β=β,\n",
    "                           μ=μ,\n",
    "                           S_0=S_0,\n",
    "                           h_0=h_0,\n",
    "                           K=K,\n",
    "                           n=n,\n",
    "                           ρ=ρ,\n",
    "                           ν=ν,\n",
    "                           M=1_000_000,\n",
    "                           seed=1234):\n",
    "    np.random.seed(seed)\n",
    "\n",
    "    s_0 = np.log(S_0)\n",
    "    s_n = np.empty(M)\n",
    "\n",
    "    for m in range(M):\n",
    "        s, h = s_0, h_0\n",
    "        for t in range(n):\n",
    "            U, V = np.random.randn(2)\n",
    "            s = s + μ + np.exp(h) * U\n",
    "            h = ρ * h + ν * V\n",
    "        s_n[m] = s\n",
    "\n",
    "    S_n = np.exp(s_n)\n",
    "\n",
    "    expectation = np.mean(np.maximum(S_n - K, 0))\n",
    "\n",
    "    return β**n * expectation"
   ]
  },
  {
   "cell_type": "markdown",
   "id": "2f68d3df",
   "metadata": {},
   "source": [
    "### Issue 2:  Memory Management\n",
    "\n",
    "Pure Python emphasizes flexibility and hence cannot attain maximal efficiency\n",
    "vis-a-vis memory management.\n",
    "\n",
    "For example,"
   ]
  },
  {
   "cell_type": "code",
   "execution_count": 8,
   "id": "aa9b5ed9",
   "metadata": {},
   "outputs": [
    {
     "data": {
      "text/plain": [
       "576"
      ]
     },
     "execution_count": 8,
     "metadata": {},
     "output_type": "execute_result"
    }
   ],
   "source": [
    "import sys\n",
    "x = [1.0, 2.0]  \n",
    "sys.getsizeof(x) * 8   # number of bits"
   ]
  },
  {
   "cell_type": "markdown",
   "id": "2ca3aef1",
   "metadata": {},
   "source": [
    "### Issue 3:  Parallelization\n",
    "\n",
    "There are opportunities to parallelize our code above -- divide it across\n",
    "multiple workers.\n",
    "\n",
    "This can't be done efficiently with pure Python but certainly can with the right\n",
    "Python libraries."
   ]
  },
  {
   "cell_type": "markdown",
   "id": "1bc05d65",
   "metadata": {},
   "source": [
    "## Vectorization\n",
    "\n",
    "As a first pass at improving efficiency, here's a vectorized version where all paths are updated together.\n",
    "\n",
    "We use NumPy to store and update each vector of share prices.\n",
    "\n",
    "When we use NumPy, type-checking is done per-array, not per element!"
   ]
  },
  {
   "cell_type": "code",
   "execution_count": 9,
   "id": "ae54bca7",
   "metadata": {},
   "outputs": [],
   "source": [
    "def compute_call_price_np(β=β,\n",
    "                          μ=μ,\n",
    "                          S_0=S_0,\n",
    "                          h_0=h_0,\n",
    "                          K=K,\n",
    "                          n=n,\n",
    "                          ρ=ρ,\n",
    "                          ν=ν,\n",
    "                          M=10_000_000,\n",
    "                          seed=1234):\n",
    "    np.random.seed(seed)\n",
    "    s = np.full(M, np.log(S_0))\n",
    "    h = np.full(M, h_0)\n",
    "    for t in range(n):\n",
    "        Z = np.random.randn(2, M)\n",
    "        s = s + μ + np.exp(h) * Z[0, :]\n",
    "        h = ρ * h + ν * Z[1, :]\n",
    "    expectation = np.mean(np.maximum(np.exp(s) - K, 0))\n",
    "        \n",
    "    return β**n * expectation"
   ]
  },
  {
   "cell_type": "markdown",
   "id": "b3e7e2e9",
   "metadata": {},
   "source": [
    "Now computation of the option price is reasonably fast:"
   ]
  },
  {
   "cell_type": "code",
   "execution_count": 10,
   "id": "f5e1edfb",
   "metadata": {},
   "outputs": [
    {
     "name": "stdout",
     "output_type": "stream",
     "text": [
      "CPU times: user 3.93 s, sys: 360 ms, total: 4.29 s\n",
      "Wall time: 4.29 s\n"
     ]
    },
    {
     "data": {
      "text/plain": [
       "1286.3220531978766"
      ]
     },
     "execution_count": 10,
     "metadata": {},
     "output_type": "execute_result"
    }
   ],
   "source": [
    "%time compute_call_price_np()"
   ]
  },
  {
   "cell_type": "markdown",
   "id": "7c66c3b4",
   "metadata": {},
   "source": [
    "But we can still do better..."
   ]
  },
  {
   "cell_type": "markdown",
   "id": "a30a0bc6",
   "metadata": {},
   "source": [
    "## Numba Version\n",
    "\n",
    "Let's try a Numba version.\n",
    "\n",
    "This version uses a just-in-time (JIT) compiler to eliminate type-checking."
   ]
  },
  {
   "cell_type": "code",
   "execution_count": 11,
   "id": "93db9d64",
   "metadata": {},
   "outputs": [],
   "source": [
    "import numba\n",
    "\n",
    "@numba.jit()\n",
    "def compute_call_price_numba(β=β,\n",
    "                               μ=μ,\n",
    "                               S_0=S_0,\n",
    "                               h_0=h_0,\n",
    "                               K=K,\n",
    "                               n=n,\n",
    "                               ρ=ρ,\n",
    "                               ν=ν,\n",
    "                               M=10_000_000,\n",
    "                               seed=1234):\n",
    "    np.random.seed(seed)\n",
    "    s_0 = np.log(S_0)\n",
    "    s_n = np.empty(M)\n",
    "    for m in range(M):\n",
    "        s, h = s_0, h_0\n",
    "        for t in range(n):\n",
    "            s = s + μ + np.exp(h) * np.random.randn()\n",
    "            h = ρ * h + ν * np.random.randn()\n",
    "        s_n[m] = s\n",
    "    S_n = np.exp(s_n)\n",
    "    expectation = np.mean(np.maximum(S_n - K, 0))\n",
    "\n",
    "    return β**n * expectation"
   ]
  },
  {
   "cell_type": "code",
   "execution_count": 12,
   "id": "929ee60d",
   "metadata": {},
   "outputs": [
    {
     "name": "stdout",
     "output_type": "stream",
     "text": [
      "CPU times: user 6.14 s, sys: 83 ms, total: 6.22 s\n",
      "Wall time: 6.22 s\n"
     ]
    },
    {
     "data": {
      "text/plain": [
       "1389.1371007387315"
      ]
     },
     "execution_count": 12,
     "metadata": {},
     "output_type": "execute_result"
    }
   ],
   "source": [
    "%time compute_call_price_numba()"
   ]
  },
  {
   "cell_type": "code",
   "execution_count": 13,
   "id": "eb51d499",
   "metadata": {},
   "outputs": [
    {
     "name": "stdout",
     "output_type": "stream",
     "text": [
      "CPU times: user 5.6 s, sys: 86.7 ms, total: 5.68 s\n",
      "Wall time: 5.66 s\n"
     ]
    },
    {
     "data": {
      "text/plain": [
       "1389.1371007387315"
      ]
     },
     "execution_count": 13,
     "metadata": {},
     "output_type": "execute_result"
    }
   ],
   "source": [
    "%time compute_call_price_numba()"
   ]
  },
  {
   "cell_type": "markdown",
   "id": "b5a36c23",
   "metadata": {},
   "source": [
    "## Numba Plus Parallelization\n",
    "\n",
    "The last version was only running on one core.\n",
    "\n",
    "Next let's try a Numba version with parallelization."
   ]
  },
  {
   "cell_type": "code",
   "execution_count": 14,
   "id": "431b720f",
   "metadata": {},
   "outputs": [],
   "source": [
    "from numba import prange\n",
    "\n",
    "@numba.jit(parallel=True)\n",
    "def compute_call_price_numba_parallel(β=β,\n",
    "                                      μ=μ,\n",
    "                                      S_0=S_0,\n",
    "                                      h_0=h_0,\n",
    "                                      K=K,\n",
    "                                      n=n,\n",
    "                                      ρ=ρ,\n",
    "                                      ν=ν,\n",
    "                                      M=10_000_000,\n",
    "                                      seed=1234):\n",
    "    np.random.seed(seed)\n",
    "    s_0 = np.log(S_0)\n",
    "    s_n = np.empty(M)\n",
    "    for m in prange(M):\n",
    "        s, h = s_0, h_0\n",
    "        for t in range(n):\n",
    "            s = s + μ + np.exp(h) * np.random.randn()\n",
    "            h = ρ * h + ν * np.random.randn()\n",
    "        s_n[m] = s\n",
    "    S_n = np.exp(s_n)\n",
    "    expectation = np.mean(np.maximum(S_n - K, 0))\n",
    "\n",
    "    return β**n * expectation"
   ]
  },
  {
   "cell_type": "code",
   "execution_count": 15,
   "id": "ac8d240a",
   "metadata": {},
   "outputs": [
    {
     "name": "stdout",
     "output_type": "stream",
     "text": [
      "CPU times: user 8.4 s, sys: 40 ms, total: 8.44 s\n",
      "Wall time: 1.15 s\n"
     ]
    },
    {
     "data": {
      "text/plain": [
       "1296.4341728772752"
      ]
     },
     "execution_count": 15,
     "metadata": {},
     "output_type": "execute_result"
    }
   ],
   "source": [
    "%time compute_call_price_numba_parallel()"
   ]
  },
  {
   "cell_type": "code",
   "execution_count": 16,
   "id": "3d77585d",
   "metadata": {},
   "outputs": [
    {
     "name": "stdout",
     "output_type": "stream",
     "text": [
      "CPU times: user 7.68 s, sys: 19.7 ms, total: 7.7 s\n",
      "Wall time: 492 ms\n"
     ]
    },
    {
     "data": {
      "text/plain": [
       "1285.8905806670182"
      ]
     },
     "execution_count": 16,
     "metadata": {},
     "output_type": "execute_result"
    }
   ],
   "source": [
    "%time compute_call_price_numba_parallel()"
   ]
  },
  {
   "cell_type": "markdown",
   "id": "04708c4d",
   "metadata": {},
   "source": [
    "## JAX Version\n",
    "\n",
    "We can do even better if we exploit a hardware accelerator such as a GPU.\n",
    "\n",
    "Let's see if we have a GPU:"
   ]
  },
  {
   "cell_type": "code",
   "execution_count": 17,
   "id": "2833d82d",
   "metadata": {},
   "outputs": [
    {
     "name": "stdout",
     "output_type": "stream",
     "text": [
      "Wed Aug 14 15:08:59 2024       \n",
      "+-----------------------------------------------------------------------------------------+\n",
      "| NVIDIA-SMI 550.90.07              Driver Version: 550.90.07      CUDA Version: 12.4     |\n",
      "|-----------------------------------------+------------------------+----------------------+\n",
      "| GPU  Name                 Persistence-M | Bus-Id          Disp.A | Volatile Uncorr. ECC |\n",
      "| Fan  Temp   Perf          Pwr:Usage/Cap |           Memory-Usage | GPU-Util  Compute M. |\n",
      "|                                         |                        |               MIG M. |\n",
      "|=========================================+========================+======================|\n",
      "|   0  NVIDIA GeForce RTX 3080        Off |   00000000:3E:00.0 Off |                  N/A |\n",
      "| 30%   30C    P8             25W /  320W |       2MiB /  10240MiB |      0%      Default |\n",
      "|                                         |                        |                  N/A |\n",
      "+-----------------------------------------+------------------------+----------------------+\n",
      "                                                                                         \n",
      "+-----------------------------------------------------------------------------------------+\n",
      "| Processes:                                                                              |\n",
      "|  GPU   GI   CI        PID   Type   Process name                              GPU Memory |\n",
      "|        ID   ID                                                               Usage      |\n",
      "|=========================================================================================|\n",
      "|  No running processes found                                                             |\n",
      "+-----------------------------------------------------------------------------------------+\n"
     ]
    }
   ],
   "source": [
    "!nvidia-smi"
   ]
  },
  {
   "cell_type": "markdown",
   "id": "0e15ec3e",
   "metadata": {},
   "source": [
    "The following import is standard, replacing `import numpy as np`:"
   ]
  },
  {
   "cell_type": "code",
   "execution_count": 18,
   "id": "e618cc88",
   "metadata": {},
   "outputs": [],
   "source": [
    "import jax\n",
    "import jax.numpy as jnp"
   ]
  },
  {
   "cell_type": "markdown",
   "id": "c9d744eb",
   "metadata": {},
   "source": [
    "### Simple JAX version\n",
    "\n",
    "Let's start with a simple version that looks like the NumPy version."
   ]
  },
  {
   "cell_type": "code",
   "execution_count": 19,
   "id": "7019da52",
   "metadata": {},
   "outputs": [],
   "source": [
    "def compute_call_price_jax(β=β,\n",
    "                           μ=μ,\n",
    "                           S_0=S_0,\n",
    "                           h_0=h_0,\n",
    "                           K=K,\n",
    "                           n=n,\n",
    "                           ρ=ρ,\n",
    "                           ν=ν,\n",
    "                           M=10_000_000,\n",
    "                           seed=1234):\n",
    "\n",
    "    key=jax.random.PRNGKey(seed)\n",
    "    s = jnp.full(M, np.log(S_0))\n",
    "    h = jnp.full(M, h_0)\n",
    "    for t in range(n):\n",
    "        key, subkey = jax.random.split(key)\n",
    "        Z = jax.random.normal(subkey, (2, M))\n",
    "        s = s + μ + jnp.exp(h) * Z[0, :]\n",
    "        h = ρ * h + ν * Z[1, :]\n",
    "    S = jnp.exp(s)\n",
    "    expectation = jnp.mean(jnp.maximum(S - K, 0))\n",
    "        \n",
    "    return β**n * expectation"
   ]
  },
  {
   "cell_type": "markdown",
   "id": "3b7e34f3",
   "metadata": {},
   "source": [
    "Let's run it once to compile it:"
   ]
  },
  {
   "cell_type": "code",
   "execution_count": 20,
   "id": "6dfe28ee",
   "metadata": {},
   "outputs": [
    {
     "name": "stdout",
     "output_type": "stream",
     "text": [
      "1269.854\n",
      "CPU times: user 427 ms, sys: 192 ms, total: 619 ms\n",
      "Wall time: 717 ms\n"
     ]
    }
   ],
   "source": [
    "%%time \n",
    "price = compute_call_price_jax()\n",
    "print(price)"
   ]
  },
  {
   "cell_type": "markdown",
   "id": "aa7245f2",
   "metadata": {},
   "source": [
    "And now let's time it:"
   ]
  },
  {
   "cell_type": "code",
   "execution_count": 21,
   "id": "4656cad1",
   "metadata": {},
   "outputs": [
    {
     "name": "stdout",
     "output_type": "stream",
     "text": [
      "1269.854\n",
      "CPU times: user 3.22 ms, sys: 15.7 ms, total: 18.9 ms\n",
      "Wall time: 28.4 ms\n"
     ]
    }
   ],
   "source": [
    "%%time \n",
    "price = compute_call_price_jax()\n",
    "print(price)"
   ]
  },
  {
   "cell_type": "markdown",
   "id": "b228403b",
   "metadata": {},
   "source": [
    "### Compiled JAX version"
   ]
  },
  {
   "cell_type": "markdown",
   "id": "9c02ecfa",
   "metadata": {},
   "source": [
    "Let's take the simple JAX version above and compile the entire function."
   ]
  },
  {
   "cell_type": "code",
   "execution_count": 22,
   "id": "2d830f7d",
   "metadata": {},
   "outputs": [],
   "source": [
    "compute_call_price_jax_compiled = jax.jit(compute_call_price_jax, static_argnums=(8, ))"
   ]
  },
  {
   "cell_type": "markdown",
   "id": "7a2d4a37",
   "metadata": {},
   "source": [
    "We run once to compile."
   ]
  },
  {
   "cell_type": "code",
   "execution_count": 23,
   "id": "c69f0c59",
   "metadata": {},
   "outputs": [
    {
     "name": "stdout",
     "output_type": "stream",
     "text": [
      "1269.8539\n",
      "CPU times: user 950 ms, sys: 13 ms, total: 963 ms\n",
      "Wall time: 1.82 s\n"
     ]
    }
   ],
   "source": [
    "%%time \n",
    "price = compute_call_price_jax_compiled()\n",
    "print(price)"
   ]
  },
  {
   "cell_type": "markdown",
   "id": "4291cc66",
   "metadata": {},
   "source": [
    "And now let's time it."
   ]
  },
  {
   "cell_type": "code",
   "execution_count": 24,
   "id": "c02e9f3c",
   "metadata": {},
   "outputs": [
    {
     "name": "stdout",
     "output_type": "stream",
     "text": [
      "1269.8539\n",
      "CPU times: user 1.73 ms, sys: 8 µs, total: 1.74 ms\n",
      "Wall time: 10.7 ms\n"
     ]
    }
   ],
   "source": [
    "%%time \n",
    "price = compute_call_price_jax_compiled()\n",
    "print(price)"
   ]
  },
  {
   "cell_type": "markdown",
   "id": "aca30568",
   "metadata": {},
   "source": [
    "Now we have a really big speed gain relative to NumPy."
   ]
  }
 ],
 "metadata": {
  "kernelspec": {
   "display_name": "Python 3 (ipykernel)",
   "language": "python",
   "name": "python3"
  },
  "language_info": {
   "codemirror_mode": {
    "name": "ipython",
    "version": 3
   },
   "file_extension": ".py",
   "mimetype": "text/x-python",
   "name": "python",
   "nbconvert_exporter": "python",
   "pygments_lexer": "ipython3",
   "version": "3.11.7"
  }
 },
 "nbformat": 4,
 "nbformat_minor": 5
}
