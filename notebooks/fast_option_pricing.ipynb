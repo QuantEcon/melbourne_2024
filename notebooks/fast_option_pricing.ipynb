{
 "cells": [
  {
   "cell_type": "markdown",
   "id": "58bdebc6",
   "metadata": {},
   "source": [
    "# Pricing a European Call Option Version 2\n",
    "\n",
    "----\n",
    "\n",
    "#### John Stachurski (August 2024)\n",
    "\n",
    "----"
   ]
  },
  {
   "cell_type": "markdown",
   "id": "8fccf7e2",
   "metadata": {},
   "source": [
    "In this notebook we will accelerate our code for option pricing using different\n",
    "libraries"
   ]
  },
  {
   "cell_type": "code",
   "execution_count": null,
   "id": "0326d661",
   "metadata": {},
   "outputs": [],
   "source": [
    "import numpy as np\n",
    "import matplotlib.pyplot as plt"
   ]
  },
  {
   "cell_type": "markdown",
   "id": "98b5c260",
   "metadata": {},
   "source": [
    "## Why is Pure Python Slow?\n",
    "\n",
    "We saw that our Python code for option pricing was pretty slow.\n",
    "\n",
    "In essence, this is because our loops were written in pure Python\n",
    "\n",
    "Pure Python loops are not fast.\n",
    "\n",
    "This has led some people to claim that Python is too slow for computational\n",
    "economics.\n",
    "\n",
    "These people are ~idiots~ misinformed -- so please ignore them.\n",
    "\n",
    "Evidence: AI teams are solving optimization problems in $\\mathbb R^d$ with $d >\n",
    "$ 1 trillion using Pytorch / JAX\n",
    "\n",
    "So I'm pretty sure we can use Python for computational economics.\n",
    "\n",
    "But first let's try to understand the issues.\n",
    "\n",
    "### Issue 1: Type Checking\n",
    "\n",
    "Consider the following Python code"
   ]
  },
  {
   "cell_type": "code",
   "execution_count": null,
   "id": "cdd445af",
   "metadata": {},
   "outputs": [],
   "source": [
    "x, y = 1, 2\n",
    "x + y"
   ]
  },
  {
   "cell_type": "markdown",
   "id": "c001412e",
   "metadata": {},
   "source": [
    "This is integer addition, which is different from floating point addition"
   ]
  },
  {
   "cell_type": "code",
   "execution_count": null,
   "id": "a4147270",
   "metadata": {},
   "outputs": [],
   "source": [
    "x, y = 1.0, 2.0\n",
    "x + y"
   ]
  },
  {
   "cell_type": "markdown",
   "id": "589e2d54",
   "metadata": {},
   "source": [
    "Now consider this code"
   ]
  },
  {
   "cell_type": "code",
   "execution_count": null,
   "id": "47b251de",
   "metadata": {},
   "outputs": [],
   "source": [
    "x, y = 'foo', 'bar'\n",
    "x + y"
   ]
  },
  {
   "cell_type": "markdown",
   "id": "519eea27",
   "metadata": {},
   "source": [
    "Notice that we use the same symbol `+` on each occasion.\n",
    "\n",
    "The Python interpreter figures out the correct action by type checking:"
   ]
  },
  {
   "cell_type": "code",
   "execution_count": null,
   "id": "f74819db",
   "metadata": {},
   "outputs": [],
   "source": [
    "a, b = 'foo', 10\n",
    "type(a)"
   ]
  },
  {
   "cell_type": "code",
   "execution_count": null,
   "id": "33a04afb",
   "metadata": {},
   "outputs": [],
   "source": [
    "type(b)"
   ]
  },
  {
   "cell_type": "markdown",
   "id": "6c159aff",
   "metadata": {},
   "source": [
    "But think of all the type checking in our option pricing function --- the\n",
    "overhead is huge!!"
   ]
  },
  {
   "cell_type": "code",
   "execution_count": null,
   "id": "421b402a",
   "metadata": {},
   "outputs": [],
   "source": [
    "n, β, K = 10, 0.99, 100\n",
    "μ, ρ, ν, S_0, h_0 = 0.0001, 0.01, 0.001, 10.0, 0.0\n",
    "def compute_call_price_py(β=β,\n",
    "                           μ=μ,\n",
    "                           S_0=S_0,\n",
    "                           h_0=h_0,\n",
    "                           K=K,\n",
    "                           n=n,\n",
    "                           ρ=ρ,\n",
    "                           ν=ν,\n",
    "                           M=1_000_000,\n",
    "                           seed=1234):\n",
    "    np.random.seed(seed)\n",
    "\n",
    "    s_0 = np.log(S_0)\n",
    "    s_n = np.empty(M)\n",
    "\n",
    "    for m in range(M):\n",
    "        s, h = s_0, h_0\n",
    "        for t in range(n):\n",
    "            U, V = np.random.randn(2)\n",
    "            s = s + μ + np.exp(h) * U\n",
    "            h = ρ * h + ν * V\n",
    "        s_n[m] = s\n",
    "\n",
    "    S_n = np.exp(s_n)\n",
    "\n",
    "    expectation = np.mean(np.maximum(S_n - K, 0))\n",
    "\n",
    "    return β**n * expectation"
   ]
  },
  {
   "cell_type": "markdown",
   "id": "70e19960",
   "metadata": {},
   "source": [
    "### Issue 2:  Memory Management\n",
    "\n",
    "Pure Python emphasizes flexibility and hence cannot attain maximal efficiency\n",
    "vis-a-vis memory management.\n",
    "\n",
    "For example,"
   ]
  },
  {
   "cell_type": "code",
   "execution_count": null,
   "id": "3cca4e79",
   "metadata": {},
   "outputs": [],
   "source": [
    "import sys\n",
    "x = [1.0, 2.0]  \n",
    "sys.getsizeof(x) * 8   # number of bits"
   ]
  },
  {
   "cell_type": "markdown",
   "id": "a65d2dd2",
   "metadata": {},
   "source": [
    "### Issue 3:  Parallelization\n",
    "\n",
    "There are opportunities to parallelize our code above -- divide it across\n",
    "multiple workers.\n",
    "\n",
    "This can't be done efficiently with pure Python but certainly can with the right\n",
    "Python libraries."
   ]
  },
  {
   "cell_type": "markdown",
   "id": "ace6f3ab",
   "metadata": {},
   "source": [
    "## Vectorization\n",
    "\n",
    "As a first pass at improving efficiency, here's a vectorized version where all paths are updated together.\n",
    "\n",
    "We use NumPy to store and update each vector of share prices.\n",
    "\n",
    "When we use NumPy, type-checking is done per-array, not per element!"
   ]
  },
  {
   "cell_type": "code",
   "execution_count": null,
   "id": "221dc939",
   "metadata": {},
   "outputs": [],
   "source": [
    "def compute_call_price_np(β=β,\n",
    "                          μ=μ,\n",
    "                          S_0=S_0,\n",
    "                          h_0=h_0,\n",
    "                          K=K,\n",
    "                          n=n,\n",
    "                          ρ=ρ,\n",
    "                          ν=ν,\n",
    "                          M=10_000_000,\n",
    "                          seed=1234):\n",
    "    np.random.seed(seed)\n",
    "    s = np.full(M, np.log(S_0))\n",
    "    h = np.full(M, h_0)\n",
    "    for t in range(n):\n",
    "        U, V = np.random.randn(M), np.random.randn(M)\n",
    "        s = s + μ + np.exp(h) * U\n",
    "        h = ρ * h + ν * V\n",
    "    expectation = np.mean(np.maximum(np.exp(s) - K, 0))\n",
    "        \n",
    "    return β**n * expectation"
   ]
  },
  {
   "cell_type": "markdown",
   "id": "8edee5df",
   "metadata": {},
   "source": [
    "Now computation of the option price is reasonably fast:"
   ]
  },
  {
   "cell_type": "code",
   "execution_count": null,
   "id": "1098bdc8",
   "metadata": {},
   "outputs": [],
   "source": [
    "%time compute_call_price_np()"
   ]
  },
  {
   "cell_type": "markdown",
   "id": "7917cbeb",
   "metadata": {},
   "source": [
    "But we can still do better..."
   ]
  },
  {
   "cell_type": "markdown",
   "id": "12b098d8",
   "metadata": {},
   "source": [
    "## Numba Version\n",
    "\n",
    "Let's try a Numba version.\n",
    "\n",
    "This version uses a just-in-time (JIT) compiler to eliminate type-checking."
   ]
  },
  {
   "cell_type": "code",
   "execution_count": null,
   "id": "032957f5",
   "metadata": {},
   "outputs": [],
   "source": [
    "import numba\n",
    "\n",
    "@numba.jit()\n",
    "def compute_call_price_numba(β=β,\n",
    "                               μ=μ,\n",
    "                               S_0=S_0,\n",
    "                               h_0=h_0,\n",
    "                               K=K,\n",
    "                               n=n,\n",
    "                               ρ=ρ,\n",
    "                               ν=ν,\n",
    "                               M=10_000_000,\n",
    "                               seed=1234):\n",
    "    np.random.seed(seed)\n",
    "    s_0 = np.log(S_0)\n",
    "    s_n = np.empty(M)\n",
    "    for m in range(M):\n",
    "        s, h = s_0, h_0\n",
    "        for t in range(n):\n",
    "            s = s + μ + np.exp(h) * np.random.randn()\n",
    "            h = ρ * h + ν * np.random.randn()\n",
    "        s_n[m] = s\n",
    "    S_n = np.exp(s_n)\n",
    "    expectation = np.mean(np.maximum(S_n - K, 0))\n",
    "\n",
    "    return β**n * expectation"
   ]
  },
  {
   "cell_type": "code",
   "execution_count": null,
   "id": "1e67d742",
   "metadata": {},
   "outputs": [],
   "source": [
    "%time compute_call_price_numba()"
   ]
  },
  {
   "cell_type": "code",
   "execution_count": null,
   "id": "0f91d697",
   "metadata": {},
   "outputs": [],
   "source": [
    "%time compute_call_price_numba()"
   ]
  },
  {
   "cell_type": "markdown",
   "id": "d13e24f9",
   "metadata": {},
   "source": [
    "## Numba Plus Parallelization\n",
    "\n",
    "The last version was only running on one core.\n",
    "\n",
    "Next let's try a Numba version with parallelization."
   ]
  },
  {
   "cell_type": "code",
   "execution_count": null,
   "id": "87849ec2",
   "metadata": {},
   "outputs": [],
   "source": [
    "from numba import prange\n",
    "\n",
    "@numba.jit(parallel=True)\n",
    "def compute_call_price_numba_parallel(β=β,\n",
    "                                      μ=μ,\n",
    "                                      S_0=S_0,\n",
    "                                      h_0=h_0,\n",
    "                                      K=K,\n",
    "                                      n=n,\n",
    "                                      ρ=ρ,\n",
    "                                      ν=ν,\n",
    "                                      M=10_000_000,\n",
    "                                      seed=1234):\n",
    "    np.random.seed(seed)\n",
    "    s_0 = np.log(S_0)\n",
    "    s_n = np.empty(M)\n",
    "    for m in prange(M):\n",
    "        s, h = s_0, h_0\n",
    "        for t in range(n):\n",
    "            s = s + μ + np.exp(h) * np.random.randn()\n",
    "            h = ρ * h + ν * np.random.randn()\n",
    "        s_n[m] = s\n",
    "    S_n = np.exp(s_n)\n",
    "    expectation = np.mean(np.maximum(S_n - K, 0))\n",
    "\n",
    "    return β**n * expectation"
   ]
  },
  {
   "cell_type": "code",
   "execution_count": null,
   "id": "c782d2e5",
   "metadata": {},
   "outputs": [],
   "source": [
    "%time compute_call_price_numba_parallel()"
   ]
  },
  {
   "cell_type": "code",
   "execution_count": null,
   "id": "402c7abd",
   "metadata": {},
   "outputs": [],
   "source": [
    "%time compute_call_price_numba_parallel(M=100_000_000)"
   ]
  },
  {
   "cell_type": "markdown",
   "id": "a054c5c7",
   "metadata": {},
   "source": [
    "## JAX Version\n",
    "\n",
    "We can do even better if we exploit a hardware accelerator such as a GPU.\n",
    "\n",
    "Let's see if we have a GPU:"
   ]
  },
  {
   "cell_type": "code",
   "execution_count": null,
   "id": "812a3c40",
   "metadata": {},
   "outputs": [],
   "source": [
    "!nvidia-smi"
   ]
  },
  {
   "cell_type": "markdown",
   "id": "f85cea76",
   "metadata": {},
   "source": [
    "The following import is standard, replacing `import numpy as np`:"
   ]
  },
  {
   "cell_type": "code",
   "execution_count": null,
   "id": "425a7cf9",
   "metadata": {},
   "outputs": [],
   "source": [
    "import jax\n",
    "import jax.numpy as jnp"
   ]
  },
  {
   "cell_type": "markdown",
   "id": "b440ceed",
   "metadata": {},
   "source": [
    "### Simple JAX version\n",
    "\n",
    "Let's start with a simple version that looks like the NumPy version."
   ]
  },
  {
   "cell_type": "code",
   "execution_count": null,
   "id": "94f26130",
   "metadata": {},
   "outputs": [],
   "source": [
    "def compute_call_price_jax(β=β,\n",
    "                           μ=μ,\n",
    "                           S_0=S_0,\n",
    "                           h_0=h_0,\n",
    "                           K=K,\n",
    "                           n=n,\n",
    "                           ρ=ρ,\n",
    "                           ν=ν,\n",
    "                           M=10_000_000,\n",
    "                           seed=1234):\n",
    "\n",
    "    key=jax.random.PRNGKey(seed)\n",
    "    s = jnp.full(M, np.log(S_0))\n",
    "    h = jnp.full(M, h_0)\n",
    "    for t in range(n):\n",
    "        Z = jax.random.normal(key, (2, M))\n",
    "        s = s + μ + jnp.exp(h) * Z[0, :]\n",
    "        h = ρ * h + ν * Z[1, :]\n",
    "        key = jax.random.fold_in(key, t)\n",
    "\n",
    "    S = jnp.exp(s)\n",
    "    expectation = jnp.mean(jnp.maximum(S - K, 0))\n",
    "        \n",
    "    return β**n * expectation"
   ]
  },
  {
   "cell_type": "markdown",
   "id": "766724f2",
   "metadata": {},
   "source": [
    "Let's run it once to compile it:"
   ]
  },
  {
   "cell_type": "code",
   "execution_count": null,
   "id": "e217b7d0",
   "metadata": {},
   "outputs": [],
   "source": [
    "%%time \n",
    "price = compute_call_price_jax()\n",
    "print(price)"
   ]
  },
  {
   "cell_type": "markdown",
   "id": "be87ba2f",
   "metadata": {},
   "source": [
    "And now let's time it:"
   ]
  },
  {
   "cell_type": "code",
   "execution_count": null,
   "id": "1ab44e38",
   "metadata": {},
   "outputs": [],
   "source": [
    "%%time \n",
    "price = compute_call_price_jax()\n",
    "print(price)"
   ]
  },
  {
   "cell_type": "markdown",
   "id": "68fbe241",
   "metadata": {},
   "source": [
    "### Compiled JAX version"
   ]
  },
  {
   "cell_type": "markdown",
   "id": "42730930",
   "metadata": {},
   "source": [
    "Let's take the simple JAX version above and compile the entire function."
   ]
  },
  {
   "cell_type": "code",
   "execution_count": null,
   "id": "dc668968",
   "metadata": {},
   "outputs": [],
   "source": [
    "compute_call_price_jax_compiled = jax.jit(compute_call_price_jax, static_argnums=(5, 8, ))"
   ]
  },
  {
   "cell_type": "markdown",
   "id": "fab3dac8",
   "metadata": {},
   "source": [
    "We run once to compile."
   ]
  },
  {
   "cell_type": "code",
   "execution_count": null,
   "id": "76e11514",
   "metadata": {},
   "outputs": [],
   "source": [
    "%%time \n",
    "price = compute_call_price_jax_compiled()\n",
    "print(price)"
   ]
  },
  {
   "cell_type": "markdown",
   "id": "34e7312f",
   "metadata": {},
   "source": [
    "And now let's time it."
   ]
  },
  {
   "cell_type": "code",
   "execution_count": null,
   "id": "bd8916f1",
   "metadata": {},
   "outputs": [],
   "source": [
    "%%time \n",
    "price = compute_call_price_jax_compiled()\n",
    "print(price)"
   ]
  },
  {
   "cell_type": "markdown",
   "id": "540b823a",
   "metadata": {},
   "source": [
    "Now we have a really big speed gain relative to NumPy."
   ]
  }
 ],
 "metadata": {
  "kernelspec": {
   "display_name": "Python 3 (ipykernel)",
   "language": "python",
   "name": "python3"
  }
 },
 "nbformat": 4,
 "nbformat_minor": 5
}
