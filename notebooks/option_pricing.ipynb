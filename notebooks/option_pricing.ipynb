{
 "cells": [
  {
   "cell_type": "markdown",
   "id": "f0279c6f",
   "metadata": {},
   "source": [
    "# Coding Application: Pricing a European Call Option\n",
    "\n",
    "----\n",
    "\n",
    "#### John Stachurski (August 2024)\n",
    "\n",
    "----"
   ]
  },
  {
   "cell_type": "markdown",
   "id": "db553e66",
   "metadata": {},
   "source": [
    "In this notebook we use option pricing as an application to learn some Python\n",
    "syntax."
   ]
  },
  {
   "cell_type": "markdown",
   "id": "290d4654",
   "metadata": {},
   "source": [
    "## Introduction to Monte Carlo integration\n",
    "\n",
    "Before discussing option pricing we'll quickly review Monte Carlo integration and why it's useful.\n",
    "\n",
    "### Computing expectations\n",
    "\n",
    "Suppose that we want to evaluate\n",
    "\n",
    "$$\n",
    "    \\mathbb E f(X)\n",
    "$$\n",
    "\n",
    "where $X$ is a random variable or vector and $f$ is some given function.\n",
    "\n",
    "This is easy if, say $f(x) = x$ and $X \\sim N(0,1)$, because then \n",
    "\n",
    "$$\n",
    "    \\mathbb E f(X) \n",
    "    = \\mathbb E X\n",
    "    = 0\n",
    "$$\n",
    "\n",
    "But what if \n",
    "\n",
    "$$\n",
    "    f(x) = \\log(1 + |\\sin(x)|)\n",
    "$$ \n",
    "\n",
    "and $X$ is created as follows:\n",
    "\n",
    "1. $\\sigma$ is drawn from the exponential distribution with rate $\\lambda = 2.0$\n",
    "2. $\\mu$ is drawn from a Beta$(a, b)$ distribution where $a=1.0$ and $b=3.0$\n",
    "3. $Z$ is drawn as $\\exp(Y)$ where $Y$ is $N(\\mu, \\sigma)$\n",
    "4. $X$ is taken as the minimum of $Z$ and $2.0$\n",
    "\n",
    "Now how would you compute $\\mathbb E f(X)$?"
   ]
  },
  {
   "cell_type": "code",
   "execution_count": null,
   "id": "b14c5ff3",
   "metadata": {},
   "outputs": [],
   "source": [
    "for i in range(20):\n",
    "    print(\"Solution below!\")"
   ]
  },
  {
   "cell_type": "markdown",
   "id": "81c8164a",
   "metadata": {},
   "source": [
    "**Solution**\n",
    "\n",
    "To solve the problem numerically we can use Monte Carlo:\n",
    "\n",
    "1. Generate $M$ IID draws $(X_m)$ of $X$\n",
    "2. Approximate the mean $\\mathbb E f(X)$ via the sample mean $(1/M) \\sum_{m=1}^M f(X_m)$\n",
    "\n",
    "This works because, as $M \\to \\infty$,\n",
    "\n",
    "$$\n",
    "\\frac{1}{M} \\sum_{m=1}^M f(X_m) \\to \\mathbb E f(X)\n",
    "$$\n",
    "\n",
    "Here's a function to draw one $X_m$"
   ]
  },
  {
   "cell_type": "code",
   "execution_count": null,
   "id": "cf69223f",
   "metadata": {},
   "outputs": [],
   "source": [
    "import numpy as np  \n",
    "\n",
    "def draw_x():\n",
    "    \"Draw one observation of X.\"\n",
    "    σ = np.random.exponential(scale=1/2)\n",
    "    μ = np.random.beta(a=1.0, b=3.0)\n",
    "    Y = μ + σ * np.random.randn()\n",
    "    Z = np.exp(Y)\n",
    "    return np.minimum(Z, 2.0)"
   ]
  },
  {
   "cell_type": "markdown",
   "id": "a37568c4",
   "metadata": {},
   "source": [
    "Let's test it:"
   ]
  },
  {
   "cell_type": "code",
   "execution_count": null,
   "id": "56a2ac9d",
   "metadata": {},
   "outputs": [],
   "source": [
    "draw_x()"
   ]
  },
  {
   "cell_type": "code",
   "execution_count": null,
   "id": "bc245499",
   "metadata": {},
   "outputs": [],
   "source": [
    "draw_x()"
   ]
  },
  {
   "cell_type": "code",
   "execution_count": null,
   "id": "1d1051b7",
   "metadata": {},
   "outputs": [],
   "source": [
    "draw_x()"
   ]
  },
  {
   "cell_type": "markdown",
   "id": "5de18f25",
   "metadata": {},
   "source": [
    "Let's draw $M = 10,000$ observations"
   ]
  },
  {
   "cell_type": "code",
   "execution_count": null,
   "id": "d163a15d",
   "metadata": {},
   "outputs": [],
   "source": [
    "M = 10_000\n",
    "x_samples = np.empty(M)\n",
    "for m in range(M):\n",
    "    x_samples[m] = draw_x()"
   ]
  },
  {
   "cell_type": "markdown",
   "id": "6d4b899e",
   "metadata": {},
   "source": [
    "Now we define $f$ and compute the sample mean"
   ]
  },
  {
   "cell_type": "code",
   "execution_count": null,
   "id": "f2416bc8",
   "metadata": {},
   "outputs": [],
   "source": [
    "def f(x):\n",
    "    return np.log(1 + np.abs(np.sin(x)))\n",
    "    \n",
    "np.mean(f(x_samples))"
   ]
  },
  {
   "cell_type": "markdown",
   "id": "f644c8d4",
   "metadata": {},
   "source": [
    "Of course, if we want a better approximation, we should increase $M$."
   ]
  },
  {
   "cell_type": "markdown",
   "id": "36db8b9c",
   "metadata": {},
   "source": [
    "## Pricing a call option\n",
    "\n",
    "Now we're ready to price a European call option under the assumption of risk neutrality.\n",
    "\n",
    "### Set up\n",
    "\n",
    "We consider a call option where\n",
    "\n",
    "1. $K$ is the strike price, and\n",
    "2. $S_n$ is the price of the underlying asset after $n$ days.\n",
    "\n",
    "The owner has the right (but not the obligation) to buy 1 share at price $K$ after $n$ days.  \n",
    "\n",
    "The payoff is therefore $\\max\\{S_n - K, 0\\}$\n",
    "\n",
    "The risk-neutral price is the expected payoff, discounted to current value:\n",
    "\n",
    "$$\n",
    "    P = \\beta^n \\mathbb E \\max\\{ S_n - K, 0 \\}\n",
    "$$\n",
    "\n",
    "\n",
    "Notice that this is another example of computing $\\mathbb E f(X)$\n",
    "\n",
    "In all of what follows we will use"
   ]
  },
  {
   "cell_type": "code",
   "execution_count": null,
   "id": "c8c99ea9",
   "metadata": {},
   "outputs": [],
   "source": [
    "n, β, K = 10, 0.99, 100"
   ]
  },
  {
   "cell_type": "markdown",
   "id": "0739c040",
   "metadata": {},
   "source": [
    "It remains only to specify the distribution of $S_n$."
   ]
  },
  {
   "cell_type": "markdown",
   "id": "8f7187f2",
   "metadata": {},
   "source": [
    "### Distribution of the share price\n",
    "\n",
    "Often the distribution of $S_n$ is not a simple distribution.\n",
    "\n",
    "As one example, let's set \n",
    "\n",
    "$$s_t = \\ln S_t$$\n",
    "\n",
    "and assume that the log stock price obeys \n",
    "\n",
    "$$ \n",
    "\\begin{aligned}\n",
    "    s_{t+1} & = s_t + \\mu + \\exp(h_t) \\, U_{t+1} \\\\\n",
    "    h_{t+1} & = \\rho \\, h_t + \\nu \\, V_{t+1}\n",
    "\\end{aligned}\n",
    "$$\n",
    "\n",
    "Here $\\{U_t\\}$ and $\\{V_t\\}$ are IID and standard normal.\n",
    "\n",
    "The current values $S_0$ and $h_0$ are given.\n",
    "\n",
    "These initial conditions and the laws of motion above define the random variable\n",
    "$S_n$.\n",
    "\n",
    "We use the default values"
   ]
  },
  {
   "cell_type": "code",
   "execution_count": null,
   "id": "be242878",
   "metadata": {},
   "outputs": [],
   "source": [
    "μ, ρ, ν, S_0, h_0 = 0.0001, 0.01, 0.001, 10.0, 0.0"
   ]
  },
  {
   "cell_type": "markdown",
   "id": "98c2d2f7",
   "metadata": {},
   "source": [
    "Let's plot 12 of these paths:"
   ]
  },
  {
   "cell_type": "code",
   "execution_count": null,
   "id": "16e6de5b",
   "metadata": {},
   "outputs": [],
   "source": [
    "import matplotlib.pyplot as plt  \n",
    "\n",
    "M = 12\n",
    "fig, axes = plt.subplots(2, 1, figsize=(6, 8))\n",
    "s_0 = np.log(S_0)\n",
    "\n",
    "for m in range(M):\n",
    "    s = np.empty(n+1)\n",
    "    s[0], h = s_0, h_0\n",
    "    for t in range(n):\n",
    "        U, V = np.random.randn(2)\n",
    "        s[t+1] = s[t] + μ + np.exp(h) * U\n",
    "        h = ρ * h + ν * V\n",
    "        \n",
    "    axes[0].plot(s)\n",
    "    S = np.exp(s)\n",
    "    axes[1].plot(S)\n",
    "    \n",
    "axes[0].set_title('log share price over time')\n",
    "axes[1].set_title('share price over time')\n",
    "plt.show()"
   ]
  },
  {
   "cell_type": "markdown",
   "id": "f06c6405",
   "metadata": {},
   "source": [
    "Here's a larger simulation, where we \n",
    "\n",
    "* set $M = 1000$ and\n",
    "* generate $M$ draws of $s_n$"
   ]
  },
  {
   "cell_type": "code",
   "execution_count": null,
   "id": "1ec754ac",
   "metadata": {},
   "outputs": [],
   "source": [
    "M, n = 1_000, 10\n",
    "s_0 = np.log(S_0)\n",
    "s_n = np.empty(M)\n",
    "\n",
    "for m in range(M):\n",
    "    s, h = s_0, h_0\n",
    "    for t in range(n):\n",
    "        U, V = np.random.randn(2)\n",
    "        s = s + μ + np.exp(h) * U\n",
    "        h = ρ * h + ν * V\n",
    "    s_n[m] = s"
   ]
  },
  {
   "cell_type": "markdown",
   "id": "fb2c5e1d",
   "metadata": {},
   "source": [
    "Let's histogram the $M$ values of $s_n$"
   ]
  },
  {
   "cell_type": "code",
   "execution_count": null,
   "id": "5674e041",
   "metadata": {},
   "outputs": [],
   "source": [
    "fig, ax = plt.subplots()\n",
    "ax.hist(s_n, bins=25, alpha=0.5)\n",
    "plt.show()"
   ]
  },
  {
   "cell_type": "markdown",
   "id": "57068178",
   "metadata": {},
   "source": [
    "Actually what we want is $S_n = \\exp(s_n)$, so let's look at the distribution."
   ]
  },
  {
   "cell_type": "code",
   "execution_count": null,
   "id": "d356098a",
   "metadata": {},
   "outputs": [],
   "source": [
    "S_n = np.exp(s_n)\n",
    "fig, ax = plt.subplots()\n",
    "ax.hist(S_n, bins=25, alpha=0.5)\n",
    "plt.show()"
   ]
  },
  {
   "cell_type": "markdown",
   "id": "8cbebad4",
   "metadata": {},
   "source": [
    "### Computing the price of the option\n",
    "\n",
    "Now we have observations of the share price, we can get an estimate of the option price via\n",
    "\n",
    "$$\n",
    "    \\beta^n \\frac{1}{M} \\sum_{m=1}^M \\max \\{S_n^m - K, 0 \\}\n",
    "$$"
   ]
  },
  {
   "cell_type": "code",
   "execution_count": null,
   "id": "e589b235",
   "metadata": {},
   "outputs": [],
   "source": [
    "price = β**n * np.mean(np.maximum(S_n - K, 0))\n",
    "price "
   ]
  },
  {
   "cell_type": "markdown",
   "id": "d4a631a8",
   "metadata": {},
   "source": [
    "We shouldn't take this value seriously because the sample size is very small.\n",
    "\n",
    "Next let's\n",
    "\n",
    "1. write a function to compute the price using the same method,\n",
    "1. increase the sample size, and\n",
    "1. run the function to get a better estimate."
   ]
  },
  {
   "cell_type": "code",
   "execution_count": null,
   "id": "9e19ffe3",
   "metadata": {},
   "outputs": [],
   "source": [
    "def compute_call_price_py(β=β,\n",
    "                           μ=μ,\n",
    "                           S_0=S_0,\n",
    "                           h_0=h_0,\n",
    "                           K=K,\n",
    "                           n=n,\n",
    "                           ρ=ρ,\n",
    "                           ν=ν,\n",
    "                           M=1_000_000,\n",
    "                           seed=1234):\n",
    "    np.random.seed(seed)\n",
    "\n",
    "    s_0 = np.log(S_0)\n",
    "    s_n = np.empty(M)\n",
    "\n",
    "    for m in range(M):\n",
    "        s, h = s_0, h_0\n",
    "        for t in range(n):\n",
    "            U, V = np.random.randn(2)\n",
    "            s = s + μ + np.exp(h) * U\n",
    "            h = ρ * h + ν * V\n",
    "        s_n[m] = s\n",
    "\n",
    "    S_n = np.exp(s_n)\n",
    "\n",
    "    expectation = np.mean(np.maximum(S_n - K, 0))\n",
    "\n",
    "    return β**n * expectation"
   ]
  },
  {
   "cell_type": "markdown",
   "id": "f56c84fb",
   "metadata": {},
   "source": [
    "Let's try computing the price"
   ]
  },
  {
   "cell_type": "code",
   "execution_count": null,
   "id": "cdcc3199",
   "metadata": {},
   "outputs": [],
   "source": [
    "%time compute_call_price_py(seed=1)"
   ]
  },
  {
   "cell_type": "markdown",
   "id": "92861c5f",
   "metadata": {},
   "source": [
    "The runtime is very long, even with moderate sample size $M$\n",
    "\n",
    "Moreover, the sample size is still too small!\n",
    "\n",
    "To see this, let's try again with a different seed"
   ]
  },
  {
   "cell_type": "code",
   "execution_count": null,
   "id": "a386a774",
   "metadata": {},
   "outputs": [],
   "source": [
    "%time compute_call_price_py(seed=2)"
   ]
  },
  {
   "cell_type": "markdown",
   "id": "db50be7c",
   "metadata": {},
   "source": [
    "Notice the big variation in the price --- the variance of our estimate is too high.\n",
    "\n",
    "How can we make this faster?"
   ]
  },
  {
   "cell_type": "code",
   "execution_count": null,
   "id": "74ae7936",
   "metadata": {},
   "outputs": [],
   "source": []
  }
 ],
 "metadata": {
  "kernelspec": {
   "display_name": "Python 3 (ipykernel)",
   "language": "python",
   "name": "python3"
  }
 },
 "nbformat": 4,
 "nbformat_minor": 5
}
