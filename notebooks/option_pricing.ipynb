{
 "cells": [
  {
   "cell_type": "markdown",
   "id": "63ed63de",
   "metadata": {},
   "source": [
    "# Coding Application: Pricing a European Call Option\n",
    "\n",
    "----\n",
    "\n",
    "#### John Stachurski (August 2024)\n",
    "\n",
    "----"
   ]
  },
  {
   "cell_type": "markdown",
   "id": "c09d80f4",
   "metadata": {},
   "source": [
    "In this notebook we use option pricing as an application to test some Python scientific computing libraries."
   ]
  },
  {
   "cell_type": "code",
   "execution_count": null,
   "id": "812e589f",
   "metadata": {},
   "outputs": [],
   "source": [
    "import numpy as np\n",
    "import matplotlib.pyplot as plt"
   ]
  },
  {
   "cell_type": "markdown",
   "id": "b755fbf3",
   "metadata": {},
   "source": [
    "## Introduction to Monte Carlo integration\n",
    "\n",
    "Before discussing option pricing we'll quickly review Monte Carlo integration and why it's useful.\n",
    "\n",
    "### Computing expectations\n",
    "\n",
    "Suppose that we want to evaluate\n",
    "\n",
    "$$\n",
    "P = \\mathbb E f(X)\n",
    "$$\n",
    "\n",
    "where $X$ is a random variable or vector and $f$ is some given function.\n",
    "\n",
    "This is easy in some cases\n",
    "\n",
    "* e.g., $f(x) = x^2$ and $X \\sim N(0,1)$ $\\implies$ $\\mathbb E f(X) = 1$.\n",
    "\n",
    "But what if \n",
    "\n",
    "$$f(x) = \\ln(1 + X + \\exp(X) + X^{1/2})$$ \n",
    "\n",
    "and $X$ is exponential?\n",
    "\n",
    "How would you compute $\\mathbb E f(X)$ in this case?\n",
    "\n",
    "### Numerical integration\n",
    "\n",
    "One option here is to use a numerical integration method"
   ]
  },
  {
   "cell_type": "markdown",
   "id": "735f137c",
   "metadata": {},
   "source": [
    "We want to integrate $h(x) = f(x) g(x)$ where $g$ is the exponential density."
   ]
  },
  {
   "cell_type": "code",
   "execution_count": null,
   "id": "9b1f26a4",
   "metadata": {},
   "outputs": [],
   "source": [
    "def g(x, λ=1.0):\n",
    "    return λ * np.exp(- λ * x)\n",
    "\n",
    "def f(x):\n",
    "    return np.log(1 + x + np.exp(x) + np.sqrt(x)) * g(x)\n",
    "\n",
    "def h(x):\n",
    "    return f(x) * g(x)"
   ]
  },
  {
   "cell_type": "code",
   "execution_count": null,
   "id": "ad7d7207",
   "metadata": {},
   "outputs": [],
   "source": [
    "fig, ax = plt.subplots()\n",
    "a, b = 0, 8\n",
    "x_full = np.linspace(a, b, 1000)\n",
    "y_full = h(x_full)\n",
    "ax.plot(x_full, y_full, 'r', linewidth=2, label='$h(x)$')\n",
    "ax.legend()\n",
    "plt.show()"
   ]
  },
  {
   "cell_type": "markdown",
   "id": "8794f4ba",
   "metadata": {},
   "source": [
    "Here's a really simple numerical integration routine that uses the trapezoidal rule."
   ]
  },
  {
   "cell_type": "code",
   "execution_count": null,
   "id": "9471a120",
   "metadata": {},
   "outputs": [],
   "source": [
    "def trapezoidal_rule(u, a=0, b=5, n=6):\n",
    "    \"\"\"\n",
    "    Approximate the integral of u over [a, b] using the trapezoidal rule.\n",
    "    \"\"\"\n",
    "    x = np.linspace(a, b, n+1)\n",
    "    y = u(x)\n",
    "    h = (b - a) / n\n",
    "    integral = (h / 2) * (y[0] + 2 * np.sum(y[1:-1]) + y[-1])\n",
    "    return integral, x, y"
   ]
  },
  {
   "cell_type": "markdown",
   "id": "1813cede",
   "metadata": {},
   "source": [
    "Let's integrate:"
   ]
  },
  {
   "cell_type": "code",
   "execution_count": null,
   "id": "721ed633",
   "metadata": {},
   "outputs": [],
   "source": [
    "integral, x, y = trapezoidal_rule(h)"
   ]
  },
  {
   "cell_type": "code",
   "execution_count": null,
   "id": "73b4398c",
   "metadata": {},
   "outputs": [],
   "source": [
    "integral"
   ]
  },
  {
   "cell_type": "code",
   "execution_count": null,
   "id": "2ba6e831",
   "metadata": {},
   "outputs": [],
   "source": [
    "# Plot function\n",
    "a, b = x.min(), x.max()\n",
    "x_full = np.linspace(a, b, 1000)\n",
    "y_full = h(x_full)\n",
    "fig, ax = plt.subplots()\n",
    "ax.plot(x_full, y_full, 'r', linewidth=2, label='$h(x)$')\n",
    "\n",
    "# Plot trapezoids\n",
    "n = len(x) + 1\n",
    "for i in range(n):\n",
    "    x0 = a + i * (b - a) / n\n",
    "    x1 = a + (i + 1) * (b - a) / n\n",
    "    ax.fill_between([x0, x1], [0, 0], [h(x0), h(x1)], \n",
    "                    color='blue', alpha=0.3, edgecolor='black')\n",
    "\n",
    "ax.set_title(f'estimated integral with {n} grid points = {integral:.3f}')\n",
    "ax.set_xlabel('$x$')\n",
    "ax.set_ylabel('$h(x)$')\n",
    "ax.legend()\n",
    "plt.show()"
   ]
  },
  {
   "cell_type": "markdown",
   "id": "c0f179e4",
   "metadata": {},
   "source": [
    "OK, so we figured out how to handle the problem above numerically.\n",
    "\n",
    "But now let's make it harder.\n",
    "\n",
    "What if I tell you that $X$ is created as follows:\n",
    "\n",
    "1. $\\sigma$ is drawn from the exponential distribution with rate $\\lambda = 2.0$\n",
    "2. $\\mu$ is drawn from a Beta$(a, b)$ distribution where $a=1.0$ and $b=3.0$\n",
    "3. $Z$ is drawn as $\\exp(Y)$ where $Y$ is $N(\\mu, \\sigma)$\n",
    "4. $X$ is taken as the minimum of $Z$ and $2.0$\n",
    "\n",
    "Now how would you compute $\\mathbb E f(X)$?"
   ]
  },
  {
   "cell_type": "code",
   "execution_count": null,
   "id": "8ea7490b",
   "metadata": {},
   "outputs": [],
   "source": [
    "for i in range(20):\n",
    "    print(\"Solution below!\")"
   ]
  },
  {
   "cell_type": "markdown",
   "id": "55f6a42f",
   "metadata": {},
   "source": [
    "**Solution**\n",
    "\n",
    "To solve the problem numerically we can use Monte Carlo:\n",
    "\n",
    "1. Generate $n$ IID draws $(X_i)$ of $X$\n",
    "2. Approximate $\\mathbb E f(X)$ via $(1/n) \\sum_{i=1}^n f(X_i)$"
   ]
  },
  {
   "cell_type": "code",
   "execution_count": null,
   "id": "3f282186",
   "metadata": {},
   "outputs": [],
   "source": [
    "def draw_x():\n",
    "    σ = np.random.exponential(scale=1/2)\n",
    "    μ = np.random.beta(a=1.0, b=3.0)\n",
    "    Y = μ + σ * np.random.randn()\n",
    "    return np.minimum(np.exp(Y), 2.0)"
   ]
  },
  {
   "cell_type": "code",
   "execution_count": null,
   "id": "71ea0165",
   "metadata": {},
   "outputs": [],
   "source": [
    "x_samples = [draw_x() for i in range(10_000)]\n",
    "x_samples = np.array(x_samples)"
   ]
  },
  {
   "cell_type": "code",
   "execution_count": null,
   "id": "29dc6ffb",
   "metadata": {},
   "outputs": [],
   "source": [
    "np.mean(f(x_samples))"
   ]
  },
  {
   "cell_type": "markdown",
   "id": "0b1fe9ec",
   "metadata": {},
   "source": [
    "Of course, if we want a better approximation, we should generate more samples."
   ]
  },
  {
   "cell_type": "markdown",
   "id": "26b7e967",
   "metadata": {},
   "source": [
    "## Pricing a call option\n",
    "\n",
    "Now we're ready to price a European call option under the assumption of risk neutrality.\n",
    "\n",
    "### Set up\n",
    "\n",
    "The price satisfies\n",
    "\n",
    "$$\n",
    "P = \\beta^n \\mathbb E \\max\\{ S_n - K, 0 \\}\n",
    "$$\n",
    "\n",
    "where\n",
    "\n",
    "1. $\\beta$ is a discount factor,\n",
    "2. $n$ is the expiry date,\n",
    "2. $K$ is the strike price and\n",
    "3. $S_n$ is the price of the underlying asset after $n$ periods.\n",
    "\n",
    "For example, consider a call option to buy stock in Amazon at strike price $K$. \n",
    "\n",
    "The owner has the right (but not the obligation) to buy 1 share in Amazon at\n",
    "price $K$ after $n$ days.  \n",
    "\n",
    "The payoff is therefore $\\max\\{S_n - K, 0\\}$\n",
    "\n",
    "The risk-neutral price is the expectation of the payoff, discounted to current value.\n",
    "\n",
    "Notice that this is another example of computing $P = \\mathbb E f(X)$\n",
    "\n",
    "In all of what follows we will use"
   ]
  },
  {
   "cell_type": "code",
   "execution_count": null,
   "id": "00dfb4db",
   "metadata": {},
   "outputs": [],
   "source": [
    "n, β, K = 10, 0.99, 100"
   ]
  },
  {
   "cell_type": "markdown",
   "id": "3d7e91fe",
   "metadata": {},
   "source": [
    "It remains only to specify the distribution of $S_n$."
   ]
  },
  {
   "cell_type": "markdown",
   "id": "115f642e",
   "metadata": {},
   "source": [
    "### Distribution of the share price\n",
    "\n",
    "Often the distribution of $S_n$ is not a simple distribution.\n",
    "\n",
    "As one example, let's set $s_t = \\ln S_t$ and assume that the log stock price obeys \n",
    "\n",
    "$$ \n",
    "\\ln s_{t+1} = \\ln s_t + \\mu + \\sigma_t \\xi_{t+1}\n",
    "$$\n",
    "\n",
    "where \n",
    "\n",
    "$$ \n",
    "    \\sigma_t = \\exp(h_t), \n",
    "    \\quad\n",
    "    h_{t+1} = \\rho h_t + \\nu \\eta_{t+1}\n",
    "$$\n",
    "\n",
    "Here $\\{\\xi_t\\}$ and $\\{\\eta_t\\}$ are IID and standard normal.\n",
    "\n",
    "(This is a **stochastic volatility** model, where the volatility $\\sigma_t$\n",
    "varies over time.)\n",
    "\n",
    "We use the default values"
   ]
  },
  {
   "cell_type": "code",
   "execution_count": null,
   "id": "2db7089f",
   "metadata": {},
   "outputs": [],
   "source": [
    "μ, ρ, ν, S_0, h_0 = 0.0001, 0.1, 0.001, 10.0, 0.0"
   ]
  },
  {
   "cell_type": "markdown",
   "id": "2ddc4825",
   "metadata": {},
   "source": [
    "Let's plot 12 of these paths:"
   ]
  },
  {
   "cell_type": "code",
   "execution_count": null,
   "id": "28c02ac0",
   "metadata": {},
   "outputs": [],
   "source": [
    "M, n = 12, 10\n",
    "fig, axes = plt.subplots(2, 1, figsize=(6, 8))\n",
    "s_0 = np.log(S_0)\n",
    "for m in range(M):\n",
    "    s = np.empty(n+1)\n",
    "    s[0], h = s_0, h_0\n",
    "    for t in range(n):\n",
    "        s[t+1] = s[t] + μ + np.exp(h) * np.random.randn()\n",
    "        h = ρ * h + ν * np.random.randn()\n",
    "    axes[0].plot(s)\n",
    "    axes[1].plot(np.exp(s))\n",
    "axes[0].set_title('log share price over time')\n",
    "axes[1].set_title('share price over time')\n",
    "plt.show()"
   ]
  },
  {
   "cell_type": "markdown",
   "id": "88e6e0fc",
   "metadata": {},
   "source": [
    "Here's a larger simulation, where we \n",
    "\n",
    "* set $M = 1000$ and\n",
    "* generate $M$ draws of $s_n$"
   ]
  },
  {
   "cell_type": "code",
   "execution_count": null,
   "id": "8973e256",
   "metadata": {},
   "outputs": [],
   "source": [
    "M, n = 1_000, 10\n",
    "s_0 = np.log(S_0)\n",
    "s_n = np.empty(M)\n",
    "for m in range(M):\n",
    "    s, h = s_0, h_0\n",
    "    for t in range(n):\n",
    "        s = s + μ + np.exp(h) * np.random.randn()\n",
    "        h = ρ * h + ν * np.random.randn()\n",
    "    s_n[m] = s"
   ]
  },
  {
   "cell_type": "markdown",
   "id": "4dfdf212",
   "metadata": {},
   "source": [
    "Let's histogram the $M$ values of $s_n$"
   ]
  },
  {
   "cell_type": "code",
   "execution_count": null,
   "id": "ae372097",
   "metadata": {},
   "outputs": [],
   "source": [
    "fig, ax = plt.subplots()\n",
    "ax.hist(s_n, bins=25, alpha=0.5)\n",
    "plt.show()"
   ]
  },
  {
   "cell_type": "markdown",
   "id": "84174869",
   "metadata": {},
   "source": [
    "Actually what we want is $S_n = \\exp(s_n)$, so let's look at the distribution."
   ]
  },
  {
   "cell_type": "code",
   "execution_count": null,
   "id": "354fc160",
   "metadata": {},
   "outputs": [],
   "source": [
    "S_n = np.exp(s_n)\n",
    "fig, ax = plt.subplots()\n",
    "ax.hist(S_n, bins=25, alpha=0.5)\n",
    "plt.show()"
   ]
  },
  {
   "cell_type": "markdown",
   "id": "3c60fe7d",
   "metadata": {},
   "source": [
    "We can see that it's heavy-tailed\n",
    "\n",
    "* many small observations\n",
    "* a few very large ones\n",
    "\n",
    "\n",
    "### Computing the price of the option\n",
    "\n",
    "Now we have observations of the share price, we can get an estimate of the option price via\n",
    "\n",
    "$$\n",
    "    \\hat P_M \n",
    "    := \\beta^n \\mathbb E \\max\\{ S_n - K, 0 \\} \n",
    "    \\approx\n",
    "    \\frac{1}{M} \\sum_{m=1}^M \\max \\{S_n^m - K, 0 \\}\n",
    "$$"
   ]
  },
  {
   "cell_type": "code",
   "execution_count": null,
   "id": "12a9d821",
   "metadata": {},
   "outputs": [],
   "source": [
    "price = β**n * np.mean(np.maximum(S_n - K, 0))\n",
    "price "
   ]
  },
  {
   "cell_type": "markdown",
   "id": "08f8e449",
   "metadata": {},
   "source": [
    "Let's write a function to do this\n",
    "\n",
    "We'll use the following default for $M$"
   ]
  },
  {
   "cell_type": "code",
   "execution_count": null,
   "id": "173c2799",
   "metadata": {},
   "outputs": [],
   "source": [
    "medium_M = 1_000_000"
   ]
  },
  {
   "cell_type": "code",
   "execution_count": null,
   "id": "8e999459",
   "metadata": {},
   "outputs": [],
   "source": [
    "def compute_call_price_py(β=β,\n",
    "                           μ=μ,\n",
    "                           S_0=S_0,\n",
    "                           h_0=h_0,\n",
    "                           K=K,\n",
    "                           n=n,\n",
    "                           ρ=ρ,\n",
    "                           ν=ν,\n",
    "                           M=medium_M,\n",
    "                           seed=1234):\n",
    "    np.random.seed(seed)\n",
    "    s_0 = np.log(S_0)\n",
    "    s_n = np.empty(M)\n",
    "    for m in range(M):\n",
    "        s, h = s_0, h_0\n",
    "        for t in range(n):\n",
    "            s = s + μ + np.exp(h) * np.random.randn()\n",
    "            h = ρ * h + ν * np.random.randn()\n",
    "        s_n[m] = s\n",
    "    S_n = np.exp(s_n)\n",
    "    expectation = np.mean(np.maximum(S_n - K, 0))\n",
    "\n",
    "    return β**n * expectation"
   ]
  },
  {
   "cell_type": "markdown",
   "id": "57946dc9",
   "metadata": {},
   "source": [
    "Let's try computing the price"
   ]
  },
  {
   "cell_type": "code",
   "execution_count": null,
   "id": "06d7b2f0",
   "metadata": {},
   "outputs": [],
   "source": [
    "%time compute_call_price_py(seed=1)"
   ]
  },
  {
   "cell_type": "markdown",
   "id": "70f38b61",
   "metadata": {},
   "source": [
    "The runtime is very long, even with moderate sample size $M$\n",
    "\n",
    "Moreover, the sample size is still too small!\n",
    "\n",
    "To see this, let's try again with a different seed"
   ]
  },
  {
   "cell_type": "code",
   "execution_count": null,
   "id": "2416edc1",
   "metadata": {},
   "outputs": [],
   "source": [
    "%time compute_call_price_py(seed=2)"
   ]
  },
  {
   "cell_type": "markdown",
   "id": "28a7a117",
   "metadata": {},
   "source": [
    "Notice the big variation in the price --- the variance of our estimate is too high."
   ]
  },
  {
   "cell_type": "markdown",
   "id": "0c3f3d4e",
   "metadata": {},
   "source": [
    "## NumPy Version"
   ]
  },
  {
   "cell_type": "code",
   "execution_count": null,
   "id": "4f6927df",
   "metadata": {},
   "outputs": [],
   "source": [
    "def compute_call_price_np(β=β,\n",
    "                          μ=μ,\n",
    "                          S_0=S_0,\n",
    "                          h_0=h_0,\n",
    "                          K=K,\n",
    "                          n=n,\n",
    "                          ρ=ρ,\n",
    "                          ν=ν,\n",
    "                          M=medium_M,\n",
    "                          seed=1234):\n",
    "    np.random.seed(seed)\n",
    "    s = np.full(M, np.log(S_0))\n",
    "    h = np.full(M, h_0)\n",
    "    for t in range(n):\n",
    "        Z = np.random.randn(2, M)\n",
    "        s = s + μ + np.exp(h) * Z[0, :]\n",
    "        h = ρ * h + ν * Z[1, :]\n",
    "    expectation = np.mean(np.maximum(np.exp(s) - K, 0))\n",
    "        \n",
    "    return β**n * expectation"
   ]
  },
  {
   "cell_type": "markdown",
   "id": "426026fe",
   "metadata": {},
   "source": [
    "Now computation of the option price estimate is much faster."
   ]
  },
  {
   "cell_type": "code",
   "execution_count": null,
   "id": "1e9de47b",
   "metadata": {},
   "outputs": [],
   "source": [
    "%time compute_call_price_np(seed=1)"
   ]
  },
  {
   "cell_type": "markdown",
   "id": "953feaaf",
   "metadata": {},
   "source": [
    "This means that we can estimate the price using a serious sample size"
   ]
  },
  {
   "cell_type": "code",
   "execution_count": null,
   "id": "e04967ab",
   "metadata": {},
   "outputs": [],
   "source": [
    "large_M = 10 * medium_M\n",
    "%time compute_call_price_np(M=large_M, seed=1)"
   ]
  },
  {
   "cell_type": "markdown",
   "id": "e1b04aca",
   "metadata": {},
   "source": [
    "Let's try with a different seed to get a sense of the variance."
   ]
  },
  {
   "cell_type": "code",
   "execution_count": null,
   "id": "0b1877f2",
   "metadata": {},
   "outputs": [],
   "source": [
    "%time compute_call_price_np(M=large_M, seed=2)"
   ]
  },
  {
   "cell_type": "markdown",
   "id": "df09923f",
   "metadata": {},
   "source": [
    "OK, the sample size is *still* too small, which tells us that we need more\n",
    "speed.\n",
    "\n",
    "Let's leave $M$ fixed at `large_M` but try to make the routine faster"
   ]
  },
  {
   "cell_type": "markdown",
   "id": "f9022ef9",
   "metadata": {},
   "source": [
    "## Parallel Numba-only version\n",
    "\n",
    "Let's try a Numba version without NumPy and with parallelization."
   ]
  },
  {
   "cell_type": "code",
   "execution_count": null,
   "id": "263567f3",
   "metadata": {},
   "outputs": [],
   "source": [
    "import numba\n",
    "from numba import prange\n",
    "\n",
    "@numba.jit(parallel=True)\n",
    "def compute_call_price_numba(β=β,\n",
    "                               μ=μ,\n",
    "                               S_0=S_0,\n",
    "                               h_0=h_0,\n",
    "                               K=K,\n",
    "                               n=n,\n",
    "                               ρ=ρ,\n",
    "                               ν=ν,\n",
    "                               M=medium_M,\n",
    "                               seed=1234):\n",
    "    np.random.seed(seed)\n",
    "    s_0 = np.log(S_0)\n",
    "    s_n = np.empty(M)\n",
    "    for m in prange(M):\n",
    "        s, h = s_0, h_0\n",
    "        for t in range(n):\n",
    "            s = s + μ + np.exp(h) * np.random.randn()\n",
    "            h = ρ * h + ν * np.random.randn()\n",
    "        s_n[m] = s\n",
    "    S_n = np.exp(s_n)\n",
    "    expectation = np.mean(np.maximum(S_n - K, 0))\n",
    "\n",
    "    return β**n * expectation"
   ]
  },
  {
   "cell_type": "code",
   "execution_count": null,
   "id": "c6d526c1",
   "metadata": {},
   "outputs": [],
   "source": [
    "%time compute_call_price_numba(M=large_M)"
   ]
  },
  {
   "cell_type": "code",
   "execution_count": null,
   "id": "b3e5a646",
   "metadata": {},
   "outputs": [],
   "source": [
    "%time compute_call_price_numba(M=large_M)"
   ]
  },
  {
   "cell_type": "markdown",
   "id": "cf24dfbd",
   "metadata": {},
   "source": [
    "## JAX Version"
   ]
  },
  {
   "cell_type": "code",
   "execution_count": null,
   "id": "edc0bab4",
   "metadata": {},
   "outputs": [],
   "source": [
    "!nvidia-smi"
   ]
  },
  {
   "cell_type": "markdown",
   "id": "96d48d44",
   "metadata": {},
   "source": [
    "The following import is standard, replacing `import numpy as np`:"
   ]
  },
  {
   "cell_type": "code",
   "execution_count": null,
   "id": "07083e5d",
   "metadata": {},
   "outputs": [],
   "source": [
    "import jax\n",
    "import jax.numpy as jnp"
   ]
  },
  {
   "cell_type": "markdown",
   "id": "037d5bfb",
   "metadata": {},
   "source": [
    "### Simple JAX version\n",
    "\n",
    "Let's start with a simple version that looks like the NumPy version."
   ]
  },
  {
   "cell_type": "code",
   "execution_count": null,
   "id": "82834eb3",
   "metadata": {},
   "outputs": [],
   "source": [
    "def compute_call_price_jax(β=β,\n",
    "                           μ=μ,\n",
    "                           S_0=S_0,\n",
    "                           h_0=h_0,\n",
    "                           K=K,\n",
    "                           n=n,\n",
    "                           ρ=ρ,\n",
    "                           ν=ν,\n",
    "                           M=1_000_000,\n",
    "                           seed=1234):\n",
    "\n",
    "    key=jax.random.PRNGKey(seed)\n",
    "    s = jnp.full(M, np.log(S_0))\n",
    "    h = jnp.full(M, h_0)\n",
    "    for t in range(n):\n",
    "        key, subkey = jax.random.split(key)\n",
    "        Z = jax.random.normal(subkey, (2, M))\n",
    "        s = s + μ + jnp.exp(h) * Z[0, :]\n",
    "        h = ρ * h + ν * Z[1, :]\n",
    "    expectation = jnp.mean(jnp.maximum(jnp.exp(s) - K, 0))\n",
    "        \n",
    "    return β**n * expectation"
   ]
  },
  {
   "cell_type": "markdown",
   "id": "49ece579",
   "metadata": {},
   "source": [
    "Let's run it once to compile it:"
   ]
  },
  {
   "cell_type": "code",
   "execution_count": null,
   "id": "d805b9d8",
   "metadata": {},
   "outputs": [],
   "source": [
    "%%time \n",
    "price = compute_call_price_jax(M=large_M)\n",
    "print(price)"
   ]
  },
  {
   "cell_type": "markdown",
   "id": "d5c619fc",
   "metadata": {},
   "source": [
    "And now let's time it:"
   ]
  },
  {
   "cell_type": "code",
   "execution_count": null,
   "id": "5c8e86b4",
   "metadata": {},
   "outputs": [],
   "source": [
    "%%time \n",
    "price = compute_call_price_jax(M=large_M)\n",
    "print(price)"
   ]
  },
  {
   "cell_type": "markdown",
   "id": "d5da78e0",
   "metadata": {},
   "source": [
    "### Compiled JAX version"
   ]
  },
  {
   "cell_type": "markdown",
   "id": "ee70597f",
   "metadata": {},
   "source": [
    "Let's take the simple version above and compile the entire function using JAX"
   ]
  },
  {
   "cell_type": "code",
   "execution_count": null,
   "id": "02c7f7e3",
   "metadata": {},
   "outputs": [],
   "source": [
    "compute_call_price_jax_compiled = jax.jit(compute_call_price_jax, static_argnums=(8, ))"
   ]
  },
  {
   "cell_type": "code",
   "execution_count": null,
   "id": "8ce6da3f",
   "metadata": {},
   "outputs": [],
   "source": [
    "%%time \n",
    "price = compute_call_price_jax_compiled(M=large_M)\n",
    "print(price)"
   ]
  },
  {
   "cell_type": "code",
   "execution_count": null,
   "id": "3b21c673",
   "metadata": {},
   "outputs": [],
   "source": [
    "%%time \n",
    "price = compute_call_price_jax_compiled(M=large_M)\n",
    "print(price)"
   ]
  },
  {
   "cell_type": "markdown",
   "id": "ad656b85",
   "metadata": {},
   "source": [
    "### Compiled version with fori_loop"
   ]
  },
  {
   "cell_type": "code",
   "execution_count": null,
   "id": "6ec32e89",
   "metadata": {},
   "outputs": [],
   "source": [
    "def compute_call_price_jax_fori(β=β,\n",
    "                                μ=μ,\n",
    "                                S_0=S_0,\n",
    "                                h_0=h_0,\n",
    "                                K=K,\n",
    "                                n=n,\n",
    "                                ρ=ρ,\n",
    "                                ν=ν,\n",
    "                                M=1_000_000,\n",
    "                                seed=1234):\n",
    "\n",
    "    key=jax.random.PRNGKey(seed)\n",
    "    s = jnp.full(M, np.log(S_0))\n",
    "    h = jnp.full(M, h_0)\n",
    "\n",
    "    def update(t, state):\n",
    "        s, h, key = state\n",
    "        key, subkey = jax.random.split(key)\n",
    "        Z = jax.random.normal(subkey, (2, M))\n",
    "        s = s + μ + jnp.exp(h) * Z[0, :]\n",
    "        h = ρ * h + ν * Z[1, :]\n",
    "        return s, h, key\n",
    "\n",
    "    s, h, key = jax.lax.fori_loop(0, n, update, (s, h, key))\n",
    "    expectation = jnp.mean(jnp.maximum(jnp.exp(s) - K, 0))\n",
    "        \n",
    "    return β**n * expectation"
   ]
  },
  {
   "cell_type": "code",
   "execution_count": null,
   "id": "b1e5326e",
   "metadata": {},
   "outputs": [],
   "source": [
    "compute_call_price_jax_fori = jax.jit(compute_call_price_jax_fori, static_argnums=(8, ))"
   ]
  },
  {
   "cell_type": "code",
   "execution_count": null,
   "id": "0e080145",
   "metadata": {},
   "outputs": [],
   "source": [
    "%%time \n",
    "price = compute_call_price_jax_fori(M=large_M)\n",
    "print(price)"
   ]
  },
  {
   "cell_type": "code",
   "execution_count": null,
   "id": "5ad780fa",
   "metadata": {},
   "outputs": [],
   "source": [
    "%%time \n",
    "price = compute_call_price_jax_fori(M=large_M)\n",
    "print(price)"
   ]
  },
  {
   "cell_type": "code",
   "execution_count": null,
   "id": "56a1c9eb",
   "metadata": {},
   "outputs": [],
   "source": []
  }
 ],
 "metadata": {
  "kernelspec": {
   "display_name": "Python 3 (ipykernel)",
   "language": "python",
   "name": "python3"
  }
 },
 "nbformat": 4,
 "nbformat_minor": 5
}
