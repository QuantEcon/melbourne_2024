{
 "cells": [
  {
   "cell_type": "markdown",
   "id": "e5f0bb30",
   "metadata": {},
   "source": [
    "# Coding Application: Pricing a European Call Option\n",
    "\n",
    "----\n",
    "\n",
    "#### John Stachurski (August 2024)\n",
    "\n",
    "----"
   ]
  },
  {
   "cell_type": "markdown",
   "id": "75dec471",
   "metadata": {},
   "source": [
    "In this notebook we use option pricing as an application to test some Python scientific computing libraries."
   ]
  },
  {
   "cell_type": "code",
   "execution_count": null,
   "id": "6bb00707",
   "metadata": {},
   "outputs": [],
   "source": [
    "import numpy as np\n",
    "import matplotlib.pyplot as plt"
   ]
  },
  {
   "cell_type": "markdown",
   "id": "4ebf9f47",
   "metadata": {},
   "source": [
    "## Introduction to Monte Carlo integration\n",
    "\n",
    "Before discussing option pricing we'll quickly review Monte Carlo integration and why it's useful.\n",
    "\n",
    "### Computing expectations\n",
    "\n",
    "Suppose that we want to evaluate\n",
    "\n",
    "$$\n",
    "    \\mathbb E f(X)\n",
    "$$\n",
    "\n",
    "where $X$ is a random variable or vector and $f$ is some given function.\n",
    "\n",
    "This is easy in some cases\n",
    "\n",
    "For example, if $f(x) = x^2$ and $X \\sim N(0,1)$, then \n",
    "\n",
    "$$\n",
    "    \\mathbb E f(X) \n",
    "    = \\mathbb E X^2\n",
    "    = \\mathbb E (X - \\mathbb E X)^2\n",
    "    = 1\n",
    "$$\n",
    "\n",
    "But what if $f$ is a more complex function, such as\n",
    "\n",
    "$$\n",
    "    f(x) = \\ln(1 + x + \\exp(x) + x^{1/2})\n",
    "$$ \n",
    "\n",
    "Let's also suppose that $X$ is exponential, meaning that its density is\n",
    "\n",
    "$$\n",
    "    g(x) = \\lambda \\exp(-\\lambda x)\n",
    "    \\quad \\text{for } x \\geq 0\n",
    "$$\n",
    "\n",
    "How would you compute $\\mathbb E f(X)$ in this case?"
   ]
  },
  {
   "cell_type": "markdown",
   "id": "55aafd71",
   "metadata": {},
   "source": [
    "### Numerical integration\n",
    "\n",
    "One option is to use numerical integration.\n",
    "\n",
    "Letting\n",
    "\n",
    "* $g$ be the exponential density and\n",
    "* $h(x) = f(x) g(x)$,\n",
    "\n",
    "we want to compute\n",
    "\n",
    "$$\n",
    "\\mathbb E f(X) \n",
    "    = \\int_0^\\infty f(x) g(x) d x\n",
    "    = \\int_0^\\infty h(x) d x\n",
    "$$\n",
    "\n",
    "First we define $h$"
   ]
  },
  {
   "cell_type": "code",
   "execution_count": null,
   "id": "038524b1",
   "metadata": {},
   "outputs": [],
   "source": [
    "def g(x, λ=1.0):\n",
    "    return λ * np.exp(- λ * x)\n",
    "\n",
    "def f(x):\n",
    "    return np.log(1 + x + np.exp(x) + np.sqrt(x)) \n",
    "\n",
    "def h(x):\n",
    "    return f(x) * g(x)"
   ]
  },
  {
   "cell_type": "markdown",
   "id": "f2df16c9",
   "metadata": {},
   "source": [
    "Let's plot $h$ to see what it looks like."
   ]
  },
  {
   "cell_type": "code",
   "execution_count": null,
   "id": "1c0e67fc",
   "metadata": {},
   "outputs": [],
   "source": [
    "fig, ax = plt.subplots()\n",
    "a, b = 0, 8\n",
    "x_full = np.linspace(a, b, 1000)\n",
    "y_full = h(x_full)\n",
    "ax.plot(x_full, y_full, linewidth=2, label='$h(x)$')\n",
    "ax.legend()\n",
    "plt.show()"
   ]
  },
  {
   "cell_type": "markdown",
   "id": "d787267b",
   "metadata": {},
   "source": [
    "Here's a really simple numerical integration routine that uses the trapezoidal rule."
   ]
  },
  {
   "cell_type": "code",
   "execution_count": null,
   "id": "e759539a",
   "metadata": {},
   "outputs": [],
   "source": [
    "def trapezoidal_rule(u, a=0, b=5, n=6):\n",
    "    \"\"\"\n",
    "    Approximate the integral of u over [a, b] using the trapezoidal rule.\n",
    "    \"\"\"\n",
    "    x = np.linspace(a, b, n+1)\n",
    "    y = u(x)\n",
    "    h = (b - a) / n\n",
    "    integral = (h / 2) * (y[0] + 2 * np.sum(y[1:-1]) + y[-1])\n",
    "    return integral, x, y"
   ]
  },
  {
   "cell_type": "markdown",
   "id": "03d74b6c",
   "metadata": {},
   "source": [
    "Let's integrate:"
   ]
  },
  {
   "cell_type": "code",
   "execution_count": null,
   "id": "3afc6042",
   "metadata": {},
   "outputs": [],
   "source": [
    "a, b, n = 0, 5, 6\n",
    "integral, x, y = trapezoidal_rule(h, a=a, b=b, n=n)"
   ]
  },
  {
   "cell_type": "code",
   "execution_count": null,
   "id": "fbf0e144",
   "metadata": {},
   "outputs": [],
   "source": [
    "integral"
   ]
  },
  {
   "cell_type": "code",
   "execution_count": null,
   "id": "03caccf7",
   "metadata": {},
   "outputs": [],
   "source": [
    "# Plot function\n",
    "x_full = np.linspace(a, b, 1000)\n",
    "y_full = h(x_full)\n",
    "fig, ax = plt.subplots()\n",
    "ax.plot(x_full, y_full, linewidth=2, label='$h(x)$')\n",
    "\n",
    "# Plot trapezoids\n",
    "for i in range(n):\n",
    "    x0 = a + i * (b - a) / n\n",
    "    x1 = a + (i + 1) * (b - a) / n\n",
    "    ax.fill_between([x0, x1], [0, 0], [h(x0), h(x1)], \n",
    "                    color='green', alpha=0.3, edgecolor='black')\n",
    "\n",
    "ax.set_title(f'estimated integral with {n+1} grid points = {integral:.3f}')\n",
    "ax.set_xlabel('$x$')\n",
    "ax.legend()\n",
    "plt.show()"
   ]
  },
  {
   "cell_type": "markdown",
   "id": "2cfd2848",
   "metadata": {},
   "source": [
    "### A harder problem\n",
    "\n",
    "OK, so we figured out how to handle the problem above.\n",
    "\n",
    "But now let's make it harder.\n",
    "\n",
    "What if I tell you that $X$ is created as follows:\n",
    "\n",
    "1. $\\sigma$ is drawn from the exponential distribution with rate $\\lambda = 2.0$\n",
    "2. $\\mu$ is drawn from a Beta$(a, b)$ distribution where $a=1.0$ and $b=3.0$\n",
    "3. $Z$ is drawn as $\\exp(Y)$ where $Y$ is $N(\\mu, \\sigma)$\n",
    "4. $X$ is taken as the minimum of $Z$ and $2.0$\n",
    "\n",
    "Now how would you compute $\\mathbb E f(X)$?"
   ]
  },
  {
   "cell_type": "code",
   "execution_count": null,
   "id": "9d3139e0",
   "metadata": {},
   "outputs": [],
   "source": [
    "for i in range(20):\n",
    "    print(\"Solution below!\")"
   ]
  },
  {
   "cell_type": "markdown",
   "id": "007ac13f",
   "metadata": {},
   "source": [
    "**Solution**\n",
    "\n",
    "To solve the problem numerically we can use Monte Carlo:\n",
    "\n",
    "1. Generate $n$ IID draws $(X_i)$ of $X$\n",
    "2. Approximate the mean $\\mathbb E f(X)$ via the sample mean $(1/n) \\sum_{i=1}^n f(X_i)$"
   ]
  },
  {
   "cell_type": "code",
   "execution_count": null,
   "id": "feb7b2fc",
   "metadata": {},
   "outputs": [],
   "source": [
    "def draw_x():\n",
    "    \"Draw one observation of X.\"\n",
    "    σ = np.random.exponential(scale=1/2)\n",
    "    μ = np.random.beta(a=1.0, b=3.0)\n",
    "    Y = μ + σ * np.random.randn()\n",
    "    return np.minimum(np.exp(Y), 2.0)"
   ]
  },
  {
   "cell_type": "code",
   "execution_count": null,
   "id": "17ecdc1f",
   "metadata": {},
   "outputs": [],
   "source": [
    "n = 10_000\n",
    "# Draw n observations of X and put them in a NumPy array\n",
    "x_samples = [draw_x() for i in range(n)]\n",
    "x_samples = np.array(x_samples)"
   ]
  },
  {
   "cell_type": "code",
   "execution_count": null,
   "id": "0cb1928a",
   "metadata": {},
   "outputs": [],
   "source": [
    "np.mean(f(x_samples))"
   ]
  },
  {
   "cell_type": "markdown",
   "id": "27413204",
   "metadata": {},
   "source": [
    "Of course, if we want a better approximation, we should increase $n$."
   ]
  },
  {
   "cell_type": "markdown",
   "id": "ae547ca7",
   "metadata": {},
   "source": [
    "## Pricing a call option\n",
    "\n",
    "Now we're ready to price a European call option under the assumption of risk neutrality.\n",
    "\n",
    "### Set up\n",
    "\n",
    "The price satisfies\n",
    "\n",
    "$$\n",
    "P = \\beta^n \\mathbb E \\max\\{ S_n - K, 0 \\}\n",
    "$$\n",
    "\n",
    "where\n",
    "\n",
    "1. $\\beta$ is a discount factor,\n",
    "2. $n$ is the expiry date,\n",
    "2. $K$ is the strike price and\n",
    "3. $S_n$ is the price of the underlying asset after $n$ periods.\n",
    "\n",
    "For example, consider a call option to buy stock in Amazon at strike price $K$. \n",
    "\n",
    "The owner has the right (but not the obligation) to buy 1 share in Amazon at\n",
    "price $K$ after $n$ days.  \n",
    "\n",
    "The payoff is therefore $\\max\\{S_n - K, 0\\}$\n",
    "\n",
    "The risk-neutral price is the expectation of the payoff, discounted to current value.\n",
    "\n",
    "Notice that this is another example of computing $P = \\mathbb E f(X)$\n",
    "\n",
    "In all of what follows we will use"
   ]
  },
  {
   "cell_type": "code",
   "execution_count": null,
   "id": "571320d9",
   "metadata": {},
   "outputs": [],
   "source": [
    "n, β, K = 10, 0.99, 100"
   ]
  },
  {
   "cell_type": "markdown",
   "id": "bf04b42e",
   "metadata": {},
   "source": [
    "It remains only to specify the distribution of $S_n$."
   ]
  },
  {
   "cell_type": "markdown",
   "id": "620ea1f9",
   "metadata": {},
   "source": [
    "### Distribution of the share price\n",
    "\n",
    "Often the distribution of $S_n$ is not a simple distribution.\n",
    "\n",
    "As one example, let's set $s_t = \\ln S_t$ for all $t$ and assume that the log stock price obeys \n",
    "\n",
    "$$ \n",
    "\\ln s_{t+1} = \\ln s_t + \\mu + \\sigma_t \\xi_{t+1}\n",
    "\\quad \\text{with } s_0 \\text{ given}\n",
    "$$\n",
    "\n",
    "and\n",
    "\n",
    "$$ \n",
    "    \\sigma_t = \\exp(h_t), \n",
    "    \\quad\n",
    "    h_{t+1} = \\rho h_t + \\nu \\eta_{t+1}\n",
    "$$\n",
    "\n",
    "Here $\\{\\xi_t\\}$ and $\\{\\eta_t\\}$ are IID and standard normal.\n",
    "\n",
    "(This is a **stochastic volatility** model, where the volatility $\\sigma_t$\n",
    "varies over time.)\n",
    "\n",
    "We use the default values"
   ]
  },
  {
   "cell_type": "code",
   "execution_count": null,
   "id": "ba6a0f6b",
   "metadata": {},
   "outputs": [],
   "source": [
    "μ, ρ, ν, S_0, h_0 = 0.0001, 0.1, 0.001, 10.0, 0.0"
   ]
  },
  {
   "cell_type": "markdown",
   "id": "31a64f46",
   "metadata": {},
   "source": [
    "Let's plot 12 of these paths:"
   ]
  },
  {
   "cell_type": "code",
   "execution_count": null,
   "id": "724232a9",
   "metadata": {},
   "outputs": [],
   "source": [
    "M, n = 12, 10\n",
    "fig, axes = plt.subplots(2, 1, figsize=(6, 8))\n",
    "s_0 = np.log(S_0)\n",
    "for m in range(M):\n",
    "    s = np.empty(n+1)\n",
    "    s[0], h = s_0, h_0\n",
    "    for t in range(n):\n",
    "        s[t+1] = s[t] + μ + np.exp(h) * np.random.randn()\n",
    "        h = ρ * h + ν * np.random.randn()\n",
    "    axes[0].plot(s)\n",
    "    axes[1].plot(np.exp(s))\n",
    "axes[0].set_title('log share price over time')\n",
    "axes[1].set_title('share price over time')\n",
    "plt.show()"
   ]
  },
  {
   "cell_type": "markdown",
   "id": "e7586cb9",
   "metadata": {},
   "source": [
    "Here's a larger simulation, where we \n",
    "\n",
    "* set $M = 1000$ and\n",
    "* generate $M$ draws of $s_n$"
   ]
  },
  {
   "cell_type": "code",
   "execution_count": null,
   "id": "450bae9e",
   "metadata": {},
   "outputs": [],
   "source": [
    "M, n = 1_000, 10\n",
    "s_0 = np.log(S_0)\n",
    "s_n = np.empty(M)\n",
    "for m in range(M):\n",
    "    s, h = s_0, h_0\n",
    "    for t in range(n):\n",
    "        s = s + μ + np.exp(h) * np.random.randn()\n",
    "        h = ρ * h + ν * np.random.randn()\n",
    "    s_n[m] = s"
   ]
  },
  {
   "cell_type": "markdown",
   "id": "e511ba43",
   "metadata": {},
   "source": [
    "Let's histogram the $M$ values of $s_n$"
   ]
  },
  {
   "cell_type": "code",
   "execution_count": null,
   "id": "dde4913b",
   "metadata": {},
   "outputs": [],
   "source": [
    "fig, ax = plt.subplots()\n",
    "ax.hist(s_n, bins=25, alpha=0.5)\n",
    "plt.show()"
   ]
  },
  {
   "cell_type": "markdown",
   "id": "8d20ef2f",
   "metadata": {},
   "source": [
    "Actually what we want is $S_n = \\exp(s_n)$, so let's look at the distribution."
   ]
  },
  {
   "cell_type": "code",
   "execution_count": null,
   "id": "cc908f07",
   "metadata": {},
   "outputs": [],
   "source": [
    "S_n = np.exp(s_n)\n",
    "fig, ax = plt.subplots()\n",
    "ax.hist(S_n, bins=25, alpha=0.5)\n",
    "plt.show()"
   ]
  },
  {
   "cell_type": "markdown",
   "id": "c69e7d02",
   "metadata": {},
   "source": [
    "We can see that it's heavy-tailed\n",
    "\n",
    "* many small observations\n",
    "* a few very large ones\n",
    "\n",
    "\n",
    "### Computing the price of the option\n",
    "\n",
    "Now we have observations of the share price, we can get an estimate of the option price via\n",
    "\n",
    "$$\n",
    "    \\hat P_M \n",
    "    := \\beta^n \\mathbb E \\max\\{ S_n - K, 0 \\} \n",
    "    \\approx\n",
    "    \\beta^n \\frac{1}{M} \\sum_{m=1}^M \\max \\{S_n^m - K, 0 \\}\n",
    "$$"
   ]
  },
  {
   "cell_type": "code",
   "execution_count": null,
   "id": "1f7ec477",
   "metadata": {},
   "outputs": [],
   "source": [
    "price = β**n * np.mean(np.maximum(S_n - K, 0))\n",
    "price "
   ]
  },
  {
   "cell_type": "markdown",
   "id": "ddcc4f19",
   "metadata": {},
   "source": [
    "Let's write a function to do this\n",
    "\n",
    "We'll use the following default for $M$"
   ]
  },
  {
   "cell_type": "code",
   "execution_count": null,
   "id": "24306a83",
   "metadata": {},
   "outputs": [],
   "source": [
    "medium_M = 1_000_000"
   ]
  },
  {
   "cell_type": "code",
   "execution_count": null,
   "id": "1a8959a5",
   "metadata": {},
   "outputs": [],
   "source": [
    "def compute_call_price_py(β=β,\n",
    "                           μ=μ,\n",
    "                           S_0=S_0,\n",
    "                           h_0=h_0,\n",
    "                           K=K,\n",
    "                           n=n,\n",
    "                           ρ=ρ,\n",
    "                           ν=ν,\n",
    "                           M=medium_M,\n",
    "                           seed=1234):\n",
    "    np.random.seed(seed)\n",
    "    s_0 = np.log(S_0)\n",
    "    s_n = np.empty(M)\n",
    "    for m in range(M):\n",
    "        s, h = s_0, h_0\n",
    "        for t in range(n):\n",
    "            s = s + μ + np.exp(h) * np.random.randn()\n",
    "            h = ρ * h + ν * np.random.randn()\n",
    "        s_n[m] = s\n",
    "    S_n = np.exp(s_n)\n",
    "    expectation = np.mean(np.maximum(S_n - K, 0))\n",
    "\n",
    "    return β**n * expectation"
   ]
  },
  {
   "cell_type": "markdown",
   "id": "275c082a",
   "metadata": {},
   "source": [
    "Let's try computing the price"
   ]
  },
  {
   "cell_type": "code",
   "execution_count": null,
   "id": "45bcc8ff",
   "metadata": {},
   "outputs": [],
   "source": [
    "%time compute_call_price_py(seed=1)"
   ]
  },
  {
   "cell_type": "markdown",
   "id": "b4bc5967",
   "metadata": {},
   "source": [
    "The runtime is very long, even with moderate sample size $M$\n",
    "\n",
    "Moreover, the sample size is still too small!\n",
    "\n",
    "To see this, let's try again with a different seed"
   ]
  },
  {
   "cell_type": "code",
   "execution_count": null,
   "id": "3e3c85fe",
   "metadata": {},
   "outputs": [],
   "source": [
    "%time compute_call_price_py(seed=2)"
   ]
  },
  {
   "cell_type": "markdown",
   "id": "6fb232a2",
   "metadata": {},
   "source": [
    "Notice the big variation in the price --- the variance of our estimate is too high."
   ]
  },
  {
   "cell_type": "markdown",
   "id": "1bd1ad20",
   "metadata": {},
   "source": [
    "## NumPy Version\n",
    "\n",
    "To increase speed, let's write a vectorized version where all paths are updated\n",
    "together.\n",
    "\n",
    "We'll use the NumPy library to manage the vector of share prices."
   ]
  },
  {
   "cell_type": "code",
   "execution_count": null,
   "id": "e9bc6986",
   "metadata": {},
   "outputs": [],
   "source": [
    "def compute_call_price_np(β=β,\n",
    "                          μ=μ,\n",
    "                          S_0=S_0,\n",
    "                          h_0=h_0,\n",
    "                          K=K,\n",
    "                          n=n,\n",
    "                          ρ=ρ,\n",
    "                          ν=ν,\n",
    "                          M=medium_M,\n",
    "                          seed=1234):\n",
    "    np.random.seed(seed)\n",
    "    s = np.full(M, np.log(S_0))\n",
    "    h = np.full(M, h_0)\n",
    "    for t in range(n):\n",
    "        Z = np.random.randn(2, M)\n",
    "        s = s + μ + np.exp(h) * Z[0, :]\n",
    "        h = ρ * h + ν * Z[1, :]\n",
    "    expectation = np.mean(np.maximum(np.exp(s) - K, 0))\n",
    "        \n",
    "    return β**n * expectation"
   ]
  },
  {
   "cell_type": "markdown",
   "id": "fddd0a1f",
   "metadata": {},
   "source": [
    "Now computation of the option price estimate is much faster."
   ]
  },
  {
   "cell_type": "code",
   "execution_count": null,
   "id": "a5fcc589",
   "metadata": {},
   "outputs": [],
   "source": [
    "%time compute_call_price_np(seed=1)"
   ]
  },
  {
   "cell_type": "markdown",
   "id": "2daffc82",
   "metadata": {},
   "source": [
    "This means that we can estimate the price using a serious sample size"
   ]
  },
  {
   "cell_type": "code",
   "execution_count": null,
   "id": "7601b391",
   "metadata": {},
   "outputs": [],
   "source": [
    "large_M = 10 * medium_M\n",
    "%time compute_call_price_np(M=large_M, seed=1)"
   ]
  },
  {
   "cell_type": "markdown",
   "id": "92d0bdd3",
   "metadata": {},
   "source": [
    "Let's try with a different seed to get a sense of the variance."
   ]
  },
  {
   "cell_type": "code",
   "execution_count": null,
   "id": "0ec9f6ac",
   "metadata": {},
   "outputs": [],
   "source": [
    "%time compute_call_price_np(M=large_M, seed=2)"
   ]
  },
  {
   "cell_type": "markdown",
   "id": "344fe163",
   "metadata": {},
   "source": [
    "OK, the sample size is *still* too small, which tells us that we need more\n",
    "speed.\n",
    "\n",
    "Let's leave $M$ fixed at `large_M` but try to make the routine faster"
   ]
  },
  {
   "cell_type": "markdown",
   "id": "a70daaec",
   "metadata": {},
   "source": [
    "## Parallel Numba version\n",
    "\n",
    "Let's try a Numba version with parallelization."
   ]
  },
  {
   "cell_type": "code",
   "execution_count": null,
   "id": "f3c9502e",
   "metadata": {},
   "outputs": [],
   "source": [
    "import numba\n",
    "from numba import prange\n",
    "\n",
    "@numba.jit(parallel=True)\n",
    "def compute_call_price_numba(β=β,\n",
    "                               μ=μ,\n",
    "                               S_0=S_0,\n",
    "                               h_0=h_0,\n",
    "                               K=K,\n",
    "                               n=n,\n",
    "                               ρ=ρ,\n",
    "                               ν=ν,\n",
    "                               M=medium_M,\n",
    "                               seed=1234):\n",
    "    np.random.seed(seed)\n",
    "    s_0 = np.log(S_0)\n",
    "    s_n = np.empty(M)\n",
    "    for m in prange(M):\n",
    "        s, h = s_0, h_0\n",
    "        for t in range(n):\n",
    "            s = s + μ + np.exp(h) * np.random.randn()\n",
    "            h = ρ * h + ν * np.random.randn()\n",
    "        s_n[m] = s\n",
    "    S_n = np.exp(s_n)\n",
    "    expectation = np.mean(np.maximum(S_n - K, 0))\n",
    "\n",
    "    return β**n * expectation"
   ]
  },
  {
   "cell_type": "code",
   "execution_count": null,
   "id": "34c193a7",
   "metadata": {},
   "outputs": [],
   "source": [
    "%time compute_call_price_numba(M=large_M)"
   ]
  },
  {
   "cell_type": "code",
   "execution_count": null,
   "id": "81ca57c2",
   "metadata": {},
   "outputs": [],
   "source": [
    "%time compute_call_price_numba(M=large_M)"
   ]
  },
  {
   "cell_type": "markdown",
   "id": "9b8a247e",
   "metadata": {},
   "source": [
    "## JAX Version"
   ]
  },
  {
   "cell_type": "code",
   "execution_count": null,
   "id": "eaff34bc",
   "metadata": {},
   "outputs": [],
   "source": [
    "!nvidia-smi"
   ]
  },
  {
   "cell_type": "markdown",
   "id": "faa69793",
   "metadata": {},
   "source": [
    "The following import is standard, replacing `import numpy as np`:"
   ]
  },
  {
   "cell_type": "code",
   "execution_count": null,
   "id": "ea215b1f",
   "metadata": {},
   "outputs": [],
   "source": [
    "import jax\n",
    "import jax.numpy as jnp"
   ]
  },
  {
   "cell_type": "markdown",
   "id": "5cfaae5d",
   "metadata": {},
   "source": [
    "### Simple JAX version\n",
    "\n",
    "Let's start with a simple version that looks like the NumPy version."
   ]
  },
  {
   "cell_type": "code",
   "execution_count": null,
   "id": "d41a62df",
   "metadata": {},
   "outputs": [],
   "source": [
    "def compute_call_price_jax(β=β,\n",
    "                           μ=μ,\n",
    "                           S_0=S_0,\n",
    "                           h_0=h_0,\n",
    "                           K=K,\n",
    "                           n=n,\n",
    "                           ρ=ρ,\n",
    "                           ν=ν,\n",
    "                           M=1_000_000,\n",
    "                           seed=1234):\n",
    "\n",
    "    key=jax.random.PRNGKey(seed)\n",
    "    s = jnp.full(M, np.log(S_0))\n",
    "    h = jnp.full(M, h_0)\n",
    "    for t in range(n):\n",
    "        key, subkey = jax.random.split(key)\n",
    "        Z = jax.random.normal(subkey, (2, M))\n",
    "        s = s + μ + jnp.exp(h) * Z[0, :]\n",
    "        h = ρ * h + ν * Z[1, :]\n",
    "    S = jnp.exp(s)\n",
    "    expectation = jnp.mean(jnp.maximum(S - K, 0))\n",
    "        \n",
    "    return β**n * expectation"
   ]
  },
  {
   "cell_type": "markdown",
   "id": "bb785d76",
   "metadata": {},
   "source": [
    "Let's run it once to compile it:"
   ]
  },
  {
   "cell_type": "code",
   "execution_count": null,
   "id": "4f522a53",
   "metadata": {},
   "outputs": [],
   "source": [
    "%%time \n",
    "price = compute_call_price_jax(M=large_M)\n",
    "print(price)"
   ]
  },
  {
   "cell_type": "markdown",
   "id": "269bbe61",
   "metadata": {},
   "source": [
    "And now let's time it:"
   ]
  },
  {
   "cell_type": "code",
   "execution_count": null,
   "id": "21dc567c",
   "metadata": {},
   "outputs": [],
   "source": [
    "%%time \n",
    "price = compute_call_price_jax(M=large_M)\n",
    "print(price)"
   ]
  },
  {
   "cell_type": "markdown",
   "id": "364c1478",
   "metadata": {},
   "source": [
    "### Compiled JAX version"
   ]
  },
  {
   "cell_type": "markdown",
   "id": "79047eb6",
   "metadata": {},
   "source": [
    "Let's take the simple JAX version above and compile the entire function."
   ]
  },
  {
   "cell_type": "code",
   "execution_count": null,
   "id": "de83e06d",
   "metadata": {},
   "outputs": [],
   "source": [
    "compute_call_price_jax_compiled = jax.jit(compute_call_price_jax, static_argnums=(8, ))"
   ]
  },
  {
   "cell_type": "markdown",
   "id": "316d78e6",
   "metadata": {},
   "source": [
    "We run once to compile."
   ]
  },
  {
   "cell_type": "code",
   "execution_count": null,
   "id": "d570459c",
   "metadata": {},
   "outputs": [],
   "source": [
    "%%time \n",
    "price = compute_call_price_jax_compiled(M=large_M)\n",
    "print(price)"
   ]
  },
  {
   "cell_type": "markdown",
   "id": "2aa67439",
   "metadata": {},
   "source": [
    "And now let's time it."
   ]
  },
  {
   "cell_type": "code",
   "execution_count": null,
   "id": "9c179ed4",
   "metadata": {},
   "outputs": [],
   "source": [
    "%%time \n",
    "price = compute_call_price_jax_compiled(M=large_M)\n",
    "print(price)"
   ]
  },
  {
   "cell_type": "markdown",
   "id": "179d31ee",
   "metadata": {},
   "source": [
    "Now we have a really big speed gain relative to NumPy."
   ]
  }
 ],
 "metadata": {
  "kernelspec": {
   "display_name": "Python 3 (ipykernel)",
   "language": "python",
   "name": "python3"
  }
 },
 "nbformat": 4,
 "nbformat_minor": 5
}
